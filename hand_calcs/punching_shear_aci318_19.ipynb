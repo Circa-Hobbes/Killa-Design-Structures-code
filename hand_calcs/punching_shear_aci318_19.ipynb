{
 "cells": [
  {
   "cell_type": "code",
   "execution_count": 2,
   "metadata": {},
   "outputs": [],
   "source": [
    "import openseespy as op\n",
    "import numpy as np\n",
    "import forallpeople as si"
   ]
  },
  {
   "cell_type": "code",
   "execution_count": null,
   "metadata": {},
   "outputs": [],
   "source": [
    "si.environment(\"structural\", top_level=True)"
   ]
  },
  {
   "cell_type": "code",
   "execution_count": null,
   "metadata": {},
   "outputs": [
    {
     "data": {
      "text/html": [
       "174.000 kN&#8901;m"
      ],
      "text/latex": [
       "$174.000\\ \\mathrm{kN} \\cdot \\mathrm{m}$"
      ],
      "text/markdown": [
       "174.000 kN&#8901;m"
      ],
      "text/plain": [
       "174.000 kN·m"
      ]
     },
     "execution_count": 70,
     "metadata": {},
     "output_type": "execute_result"
    }
   ],
   "source": [
    "force = 87 * kN\n",
    "lever_arm = 2 * m\n",
    "\n",
    "moment = force * lever_arm\n",
    "moment"
   ]
  }
 ],
 "metadata": {
  "kernelspec": {
   "display_name": "Python 3",
   "language": "python",
   "name": "python3"
  },
  "language_info": {
   "codemirror_mode": {
    "name": "ipython",
    "version": 3
   },
   "file_extension": ".py",
   "mimetype": "text/x-python",
   "name": "python",
   "nbconvert_exporter": "python",
   "pygments_lexer": "ipython3",
   "version": "3.12.0"
  }
 },
 "nbformat": 4,
 "nbformat_minor": 2
}
