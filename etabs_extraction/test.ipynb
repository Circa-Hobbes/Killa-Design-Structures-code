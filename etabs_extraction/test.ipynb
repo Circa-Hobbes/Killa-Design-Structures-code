{
 "cells": [
  {
   "cell_type": "code",
   "execution_count": 1,
   "metadata": {},
   "outputs": [],
   "source": [
    "import pandas as pd\n",
    "import numpy as np\n",
    "import sys\n",
    "import os\n",
    "import comtypes.client\n",
    "import matplotlib.pyplot as plt"
   ]
  },
  {
   "cell_type": "code",
   "execution_count": 2,
   "metadata": {},
   "outputs": [
    {
     "name": "stdout",
     "output_type": "stream",
     "text": [
      "\n",
      "-0.02641139257979737\n",
      "-0.02639\n",
      "0.0008106320499192687\n",
      "\n",
      "0.06295961111187433\n",
      "0.06296\n",
      "-6.176749137165594e-06\n",
      "\n",
      "0.06295961111187433\n",
      "0.06296\n",
      "-6.176749137165594e-06\n",
      "\n",
      "-0.2963018518554431\n",
      "-0.2963\n",
      "6.2499339963384415e-06\n",
      "\n",
      "0.31250185185563956\n",
      "0.3125\n",
      "5.925938046491552e-06\n",
      "\n",
      "0.11555582518658579\n",
      "0.11556\n",
      "-3.6126803515168504e-05\n",
      "\n",
      "0.006511371527856692\n",
      "0.00651\n",
      "0.00021068016231828857\n"
     ]
    }
   ],
   "source": [
    "# Note: can only attach to one active ETABS model. Please close all other models.\n",
    "\n",
    "# Create API helper object.\n",
    "helper = comtypes.client.CreateObject('ETABSv1.Helper')\n",
    "helper = helper.QueryInterface(comtypes.gen.ETABSv1.cHelper)  # type: ignore\n",
    "\n",
    "try:\n",
    "    # Get the current ETABS instance.\n",
    "    myETABSObject = helper.GetObject(\"CSI.ETABS.API.ETABSObject\")\n",
    "except (OSError, comtypes.COMError):\n",
    "    print(\"No running instance of the program found or failed to attach.\")\n",
    "    sys.exit(-1)\n",
    "\n",
    "# Create SapModel object (ETABS instance)\n",
    "try:\n",
    "    SapModel = myETABSObject.SapModel\n",
    "    print(\"Successfully connected to ETABS instance.\")\n",
    "except AttributeError:\n",
    "    print(\"No running instance of the program found or failed to attach.\")"
   ]
  },
  {
   "cell_type": "code",
   "execution_count": 30,
   "metadata": {},
   "outputs": [
    {
     "data": {
      "text/plain": [
       "()"
      ]
     },
     "execution_count": 30,
     "metadata": {},
     "output_type": "execute_result"
    }
   ],
   "source": []
  }
 ],
 "metadata": {
  "kernelspec": {
   "display_name": "Python 3",
   "language": "python",
   "name": "python3"
  },
  "language_info": {
   "codemirror_mode": {
    "name": "ipython",
    "version": 3
   },
   "file_extension": ".py",
   "mimetype": "text/x-python",
   "name": "python",
   "nbconvert_exporter": "python",
   "pygments_lexer": "ipython3",
   "version": "3.10.11"
  },
  "orig_nbformat": 4
 },
 "nbformat": 4,
 "nbformat_minor": 2
}
