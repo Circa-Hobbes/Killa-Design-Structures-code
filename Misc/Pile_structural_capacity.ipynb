{
 "cells": [
  {
   "attachments": {},
   "cell_type": "markdown",
   "metadata": {},
   "source": [
    "# <center>**Import relevant libraries**<center>"
   ]
  },
  {
   "cell_type": "code",
   "execution_count": 5,
   "metadata": {},
   "outputs": [],
   "source": [
    "# import handcalcs.render\n",
    "import forallpeople\n",
    "\n",
    "# from handcalcs.decorator import handcalc\n",
    "from math import pi, floor, ceil"
   ]
  },
  {
   "cell_type": "code",
   "execution_count": null,
   "metadata": {},
   "outputs": [],
   "source": []
  },
  {
   "cell_type": "code",
   "execution_count": 6,
   "metadata": {},
   "outputs": [],
   "source": [
    "forallpeople.environment(\"structural\", top_level=True)"
   ]
  },
  {
   "attachments": {},
   "cell_type": "markdown",
   "metadata": {},
   "source": [
    "# <center>**Calculate capacity of piles in accordance with Table 13.4.2.1 - ACI 318-19**<center>"
   ]
  },
  {
   "cell_type": "code",
   "execution_count": 7,
   "metadata": {},
   "outputs": [],
   "source": [
    "while True:\n",
    "    try:\n",
    "        specified_dia = int(input(\"Please input the diameter of the pile in mm:\"))\n",
    "        if specified_dia == float(specified_dia) or int(specified_dia):\n",
    "            break\n",
    "    except ValueError:\n",
    "        print(\"Please only write a number\")\n",
    "\n",
    "while True:\n",
    "    try:\n",
    "        spiral_or_tied = input(\"Is this a spiral or tied pile?\").lower()\n",
    "        if spiral_or_tied not in [\"spiral\", \"tied\"]:\n",
    "            raise ValueError(\"Please only type spiral or tied\")\n",
    "        break\n",
    "    except ValueError as e:\n",
    "        print(e)\n",
    "\n",
    "while True:\n",
    "    try:\n",
    "        cylinder_or_cube = input(\n",
    "            \"Is your concrete compressive strength cylindrical or cubic?\"\n",
    "        ).lower()\n",
    "        if cylinder_or_cube not in [\"cylindrical\", \"cubic\"]:\n",
    "            raise ValueError(\"Please only respond cylinderical or cubic\")\n",
    "        break\n",
    "    except ValueError as e:\n",
    "        print(e)\n",
    "\n",
    "while True:\n",
    "    try:\n",
    "        fc_value = int(input(\"What is the compressive strength considered?\"))\n",
    "        if fc_value == float(fc_value) or int(fc_value):\n",
    "            break\n",
    "    except ValueError:\n",
    "        print(\"Please only write a number\")"
   ]
  },
  {
   "cell_type": "code",
   "execution_count": 8,
   "metadata": {},
   "outputs": [],
   "source": [
    "def type_check(spiral_or_tied):\n",
    "    if spiral_or_tied == \"spiral\":\n",
    "        return 0.75\n",
    "    else:\n",
    "        return 0.65\n",
    "\n",
    "\n",
    "def eccentricity_check(spiral_or_tied):\n",
    "    if spiral_or_tied == \"spiral\":\n",
    "        return 0.85\n",
    "    else:\n",
    "        return 0.80\n",
    "\n",
    "\n",
    "def strength_check(cylinder_or_cube):\n",
    "    if cylinder_or_cube == \"cylindrical\":\n",
    "        return 1\n",
    "    else:\n",
    "        return 0.8\n",
    "\n",
    "\n",
    "conc_area = floor(pi * (specified_dia / 2) ** 2)\n",
    "comp_str = fc_value"
   ]
  },
  {
   "cell_type": "code",
   "execution_count": 9,
   "metadata": {},
   "outputs": [
    {
     "ename": "NameError",
     "evalue": "name 'handcalc' is not defined",
     "output_type": "error",
     "traceback": [
      "\u001b[1;31m---------------------------------------------------------------------------\u001b[0m",
      "\u001b[1;31mNameError\u001b[0m                                 Traceback (most recent call last)",
      "\u001b[1;32mc:\\Users\\adnan.a\\OneDrive - Killa Design\\Documents\\GitHub\\Killa-Design-Structures-code\\Misc\\Pile_structural_capacity.ipynb Cell 8\u001b[0m line \u001b[0;36m1\n\u001b[1;32m----> <a href='vscode-notebook-cell:/c%3A/Users/adnan.a/OneDrive%20-%20Killa%20Design/Documents/GitHub/Killa-Design-Structures-code/Misc/Pile_structural_capacity.ipynb#W6sZmlsZQ%3D%3D?line=0'>1</a>\u001b[0m \u001b[39m@handcalc\u001b[39m(jupyter_display\u001b[39m=\u001b[39m\u001b[39mTrue\u001b[39;00m)\n\u001b[0;32m      <a href='vscode-notebook-cell:/c%3A/Users/adnan.a/OneDrive%20-%20Killa%20Design/Documents/GitHub/Killa-Design-Structures-code/Misc/Pile_structural_capacity.ipynb#W6sZmlsZQ%3D%3D?line=1'>2</a>\u001b[0m \u001b[39mdef\u001b[39;00m \u001b[39maci_pile_capacity\u001b[39m(\n\u001b[0;32m      <a href='vscode-notebook-cell:/c%3A/Users/adnan.a/OneDrive%20-%20Killa%20Design/Documents/GitHub/Killa-Design-Structures-code/Misc/Pile_structural_capacity.ipynb#W6sZmlsZQ%3D%3D?line=2'>3</a>\u001b[0m     type_check, strength_check, eccentricity_check, conc_area, comp_str\n\u001b[0;32m      <a href='vscode-notebook-cell:/c%3A/Users/adnan.a/OneDrive%20-%20Killa%20Design/Documents/GitHub/Killa-Design-Structures-code/Misc/Pile_structural_capacity.ipynb#W6sZmlsZQ%3D%3D?line=3'>4</a>\u001b[0m ):\n\u001b[0;32m      <a href='vscode-notebook-cell:/c%3A/Users/adnan.a/OneDrive%20-%20Killa%20Design/Documents/GitHub/Killa-Design-Structures-code/Misc/Pile_structural_capacity.ipynb#W6sZmlsZQ%3D%3D?line=4'>5</a>\u001b[0m     reduction_factors_aci \u001b[39m=\u001b[39m type_check \u001b[39m*\u001b[39m eccentricity_check \u001b[39m*\u001b[39m \u001b[39m0.85\u001b[39m \u001b[39m*\u001b[39m strength_check\n\u001b[0;32m      <a href='vscode-notebook-cell:/c%3A/Users/adnan.a/OneDrive%20-%20Killa%20Design/Documents/GitHub/Killa-Design-Structures-code/Misc/Pile_structural_capacity.ipynb#W6sZmlsZQ%3D%3D?line=5'>6</a>\u001b[0m     aci_stress \u001b[39m=\u001b[39m (reduction_factors_aci \u001b[39m/\u001b[39m \u001b[39m1.4\u001b[39m) \u001b[39m*\u001b[39m \u001b[39m35\u001b[39m\n",
      "\u001b[1;31mNameError\u001b[0m: name 'handcalc' is not defined"
     ]
    }
   ],
   "source": [
    "@handcalc(jupyter_display=True)\n",
    "def aci_pile_capacity(\n",
    "    type_check, strength_check, eccentricity_check, conc_area, comp_str\n",
    "):\n",
    "    reduction_factors_aci = type_check * eccentricity_check * 0.85 * strength_check\n",
    "    aci_stress = (reduction_factors_aci / 1.4) * 35\n",
    "    aci_capacity = aci_stress * conc_area\n",
    "    return aci_capacity"
   ]
  },
  {
   "cell_type": "code",
   "execution_count": null,
   "metadata": {},
   "outputs": [
    {
     "ename": "NameError",
     "evalue": "name 'aci_pile_capacity' is not defined",
     "output_type": "error",
     "traceback": [
      "\u001b[1;31m---------------------------------------------------------------------------\u001b[0m",
      "\u001b[1;31mNameError\u001b[0m                                 Traceback (most recent call last)",
      "\u001b[1;32mc:\\Users\\adnan.a\\OneDrive - Killa Design\\Documents\\GitHub\\Killa-Design-Structures-code\\Misc\\Pile_structural_capacity.ipynb Cell 9\u001b[0m line \u001b[0;36m1\n\u001b[1;32m----> <a href='vscode-notebook-cell:/c%3A/Users/adnan.a/OneDrive%20-%20Killa%20Design/Documents/GitHub/Killa-Design-Structures-code/Misc/Pile_structural_capacity.ipynb#X10sZmlsZQ%3D%3D?line=0'>1</a>\u001b[0m aci_pile_capacity(\n\u001b[0;32m      <a href='vscode-notebook-cell:/c%3A/Users/adnan.a/OneDrive%20-%20Killa%20Design/Documents/GitHub/Killa-Design-Structures-code/Misc/Pile_structural_capacity.ipynb#X10sZmlsZQ%3D%3D?line=1'>2</a>\u001b[0m     type_check(spiral_or_tied),\n\u001b[0;32m      <a href='vscode-notebook-cell:/c%3A/Users/adnan.a/OneDrive%20-%20Killa%20Design/Documents/GitHub/Killa-Design-Structures-code/Misc/Pile_structural_capacity.ipynb#X10sZmlsZQ%3D%3D?line=2'>3</a>\u001b[0m     strength_check(cylinder_or_cube),\n\u001b[0;32m      <a href='vscode-notebook-cell:/c%3A/Users/adnan.a/OneDrive%20-%20Killa%20Design/Documents/GitHub/Killa-Design-Structures-code/Misc/Pile_structural_capacity.ipynb#X10sZmlsZQ%3D%3D?line=3'>4</a>\u001b[0m     eccentricity_check(spiral_or_tied),\n\u001b[0;32m      <a href='vscode-notebook-cell:/c%3A/Users/adnan.a/OneDrive%20-%20Killa%20Design/Documents/GitHub/Killa-Design-Structures-code/Misc/Pile_structural_capacity.ipynb#X10sZmlsZQ%3D%3D?line=4'>5</a>\u001b[0m     conc_area,\n\u001b[0;32m      <a href='vscode-notebook-cell:/c%3A/Users/adnan.a/OneDrive%20-%20Killa%20Design/Documents/GitHub/Killa-Design-Structures-code/Misc/Pile_structural_capacity.ipynb#X10sZmlsZQ%3D%3D?line=5'>6</a>\u001b[0m     comp_str,\n\u001b[0;32m      <a href='vscode-notebook-cell:/c%3A/Users/adnan.a/OneDrive%20-%20Killa%20Design/Documents/GitHub/Killa-Design-Structures-code/Misc/Pile_structural_capacity.ipynb#X10sZmlsZQ%3D%3D?line=6'>7</a>\u001b[0m ) \u001b[39m*\u001b[39m N\n",
      "\u001b[1;31mNameError\u001b[0m: name 'aci_pile_capacity' is not defined"
     ]
    }
   ],
   "source": [
    "aci_pile_capacity(\n",
    "    type_check(spiral_or_tied),\n",
    "    strength_check(cylinder_or_cube),\n",
    "    eccentricity_check(spiral_or_tied),\n",
    "    conc_area,\n",
    "    comp_str,\n",
    ") * N"
   ]
  },
  {
   "cell_type": "code",
   "execution_count": null,
   "metadata": {},
   "outputs": [],
   "source": []
  },
  {
   "attachments": {},
   "cell_type": "markdown",
   "metadata": {},
   "source": [
    "## <center>**Calculate capacity of piles accordance with Eurocode 2**<center>"
   ]
  },
  {
   "cell_type": "code",
   "execution_count": null,
   "metadata": {},
   "outputs": [],
   "source": [
    "ec_partial_safety_factor = 0.85"
   ]
  },
  {
   "cell_type": "code",
   "execution_count": null,
   "metadata": {},
   "outputs": [],
   "source": [
    "@handcalc(jupyter_display=True)\n",
    "def ec_pile_capacity(ec_partial_safety_factor, strength_check, conc_area, comp_str):\n",
    "    ec_capacity = (\n",
    "        ((ec_partial_safety_factor * (strength_check * comp_str)) / (1.5 * 1.1) / 1.4)\n",
    "    ) * conc_area\n",
    "    reduced_ec_capacity = (\n",
    "        0.9 * ec_capacity\n",
    "    )  # we reduce the capacity to account for >1m dia bores\n",
    "    return reduced_ec_capacity"
   ]
  },
  {
   "cell_type": "code",
   "execution_count": null,
   "metadata": {},
   "outputs": [
    {
     "data": {
      "text/latex": [
       "\\[\n",
       "\\begin{aligned}\n",
       "\\mathrm{ec}_{capacity} &= \\left( \\frac{ \\mathrm{ec}_{partial_{safety_{factor}}} \\cdot \\left( \\mathrm{strength}_{check} \\cdot \\mathrm{comp}_{str} \\right) }{ 1.5 \\cdot 1.1 } \\cdot \\frac{1} { 1.4 } \\right) \\cdot \\mathrm{conc}_{area} \\\\&= \\left( \\frac{ 0.850 \\cdot \\left( 0.800 \\cdot 35 \\right) }{ 1.5 \\cdot 1.1 } \\cdot \\frac{1} { 1.4 } \\right) \\cdot 7853 \\\\&= 80909.697  \\\\[10pt]\n",
       "\\\\[10pt]\n",
       "\\mathrm{reduced}_{ec_{capacity}} &= 0.9 \\cdot \\mathrm{ec}_{capacity}  = 0.9 \\cdot 80909.697 &= 72818.727 \\; \\;\\textrm{(we reduce the capacity to account for >1m dia bores)}\n",
       "\\end{aligned}\n",
       "\\]"
      ],
      "text/plain": [
       "<IPython.core.display.Latex object>"
      ]
     },
     "metadata": {},
     "output_type": "display_data"
    },
    {
     "data": {
      "text/html": [
       "72.819 kN"
      ],
      "text/latex": [
       "$72.819\\ \\mathrm{kN}$"
      ],
      "text/markdown": [
       "72.819 kN"
      ],
      "text/plain": [
       "72.819 kN"
      ]
     },
     "execution_count": 9,
     "metadata": {},
     "output_type": "execute_result"
    }
   ],
   "source": [
    "ec_pile_capacity(\n",
    "    ec_partial_safety_factor, strength_check(cylinder_or_cube), conc_area, comp_str\n",
    ") * N"
   ]
  },
  {
   "attachments": {},
   "cell_type": "markdown",
   "metadata": {},
   "source": [
    "## <center>**Calculate capacity of piles accordance with CP4**<center>"
   ]
  },
  {
   "cell_type": "code",
   "execution_count": null,
   "metadata": {},
   "outputs": [],
   "source": [
    "cp4_eccentricity_tolerance = 0.25"
   ]
  },
  {
   "cell_type": "code",
   "execution_count": null,
   "metadata": {},
   "outputs": [],
   "source": [
    "@handcalc(jupyter_display=True)\n",
    "def cp4_pile_capacity(cp4_eccentricity_tolerance, conc_area, comp_str):\n",
    "    cp4_capacity = cp4_eccentricity_tolerance * comp_str * conc_area\n",
    "    return cp4_capacity"
   ]
  },
  {
   "cell_type": "code",
   "execution_count": null,
   "metadata": {},
   "outputs": [
    {
     "data": {
      "text/latex": [
       "\\[\n",
       "\\begin{aligned}\n",
       "\\mathrm{cp4}_{capacity} &= \\mathrm{cp4}_{eccentricity_{tolerance}} \\cdot \\mathrm{comp}_{str} \\cdot \\mathrm{conc}_{area}  = 0.250 \\cdot 35 \\cdot 7853 &= 68713.750  \n",
       "\\end{aligned}\n",
       "\\]"
      ],
      "text/plain": [
       "<IPython.core.display.Latex object>"
      ]
     },
     "metadata": {},
     "output_type": "display_data"
    },
    {
     "data": {
      "text/html": [
       "68.714 kN"
      ],
      "text/latex": [
       "$68.714\\ \\mathrm{kN}$"
      ],
      "text/markdown": [
       "68.714 kN"
      ],
      "text/plain": [
       "68.714 kN"
      ]
     },
     "execution_count": 12,
     "metadata": {},
     "output_type": "execute_result"
    }
   ],
   "source": [
    "cp4_pile_capacity(cp4_eccentricity_tolerance, conc_area, comp_str) * N"
   ]
  },
  {
   "attachments": {},
   "cell_type": "markdown",
   "metadata": {},
   "source": []
  }
 ],
 "metadata": {
  "kernelspec": {
   "display_name": "Python 3",
   "language": "python",
   "name": "python3"
  },
  "language_info": {
   "codemirror_mode": {
    "name": "ipython",
    "version": 3
   },
   "file_extension": ".py",
   "mimetype": "text/x-python",
   "name": "python",
   "nbconvert_exporter": "python",
   "pygments_lexer": "ipython3",
   "version": "3.12.0"
  },
  "orig_nbformat": 4
 },
 "nbformat": 4,
 "nbformat_minor": 2
}
