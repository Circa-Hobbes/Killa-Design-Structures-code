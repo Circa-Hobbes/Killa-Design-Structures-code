{
 "cells": [
  {
   "attachments": {},
   "cell_type": "markdown",
   "metadata": {},
   "source": [
    "# <center>**Import relevant libraries**<center>"
   ]
  },
  {
   "cell_type": "code",
   "execution_count": 1,
   "metadata": {},
   "outputs": [],
   "source": [
    "import handcalcs.render\n",
    "import forallpeople\n",
    "from handcalcs.decorator import handcalc\n",
    "from math import pi, floor, ceil"
   ]
  },
  {
   "cell_type": "code",
   "execution_count": 2,
   "metadata": {},
   "outputs": [],
   "source": [
    "forallpeople.environment('structural', top_level= True)"
   ]
  },
  {
   "attachments": {},
   "cell_type": "markdown",
   "metadata": {},
   "source": [
    "# <center>**Calculate capacity of piles in accordance with Table 13.4.2.1 - ACI 318-19**<center>"
   ]
  },
  {
   "cell_type": "code",
   "execution_count": 3,
   "metadata": {},
   "outputs": [
    {
     "name": "stdout",
     "output_type": "stream",
     "text": [
      "Please only respond cylinderical or cubic\n",
      "Please only respond cylinderical or cubic\n"
     ]
    }
   ],
   "source": [
    "while True:\n",
    "    try:\n",
    "        specified_dia = int(input('Please input the diameter of the pile in mm:'))\n",
    "        if specified_dia == float(specified_dia) or int(specified_dia):\n",
    "            break\n",
    "    except ValueError:\n",
    "        print('Please only write a number')\n",
    "\n",
    "while True:\n",
    "    try:\n",
    "        spiral_or_tied = input('Is this a spiral or tied pile?').lower()\n",
    "        if spiral_or_tied not in ['spiral', 'tied']:\n",
    "            raise ValueError('Please only type spiral or tied')\n",
    "        break\n",
    "    except ValueError as e:\n",
    "        print(e)\n",
    "\n",
    "while True:\n",
    "    try:\n",
    "        cylinder_or_cube = input('Is your concrete compressive strength cylindrical or cubic?').lower()\n",
    "        if cylinder_or_cube not in ['cylindrical', 'cubic']:\n",
    "            raise ValueError('Please only respond cylinderical or cubic')\n",
    "        break\n",
    "    except ValueError as e:\n",
    "        print(e)\n",
    "\n",
    "while True:\n",
    "    try:\n",
    "        fc_value = int(input('What is the compressive strength considered?'))\n",
    "        if fc_value == float(fc_value) or int(fc_value):\n",
    "            break\n",
    "    except ValueError:\n",
    "        print('Please only write a number')"
   ]
  },
  {
   "cell_type": "code",
   "execution_count": 4,
   "metadata": {},
   "outputs": [],
   "source": [
    "def type_check(spiral_or_tied):\n",
    "    if spiral_or_tied == 'spiral':\n",
    "        return 0.75\n",
    "    else:\n",
    "        return 0.65\n",
    "def eccentricity_check(spiral_or_tied):\n",
    "    if spiral_or_tied =='spiral':\n",
    "        return 0.85\n",
    "    else:\n",
    "        return 0.80\n",
    "def strength_check(cylinder_or_cube):\n",
    "    if cylinder_or_cube == 'cylindrical':\n",
    "        return 1\n",
    "    else:\n",
    "        return 0.8\n",
    "conc_area = floor(pi * (specified_dia/2)**2)\n",
    "comp_str = fc_value"
   ]
  },
  {
   "cell_type": "code",
   "execution_count": 5,
   "metadata": {},
   "outputs": [],
   "source": [
    "@handcalc(jupyter_display=True)\n",
    "def aci_pile_capacity(type_check, strength_check, eccentricity_check, conc_area, comp_str):\n",
    "    reduction_factors_aci = type_check * eccentricity_check * 0.85 * strength_check\n",
    "    aci_stress = (reduction_factors_aci / 1.4) * 35\n",
    "    aci_capacity = aci_stress * conc_area\n",
    "    return aci_capacity"
   ]
  },
  {
   "cell_type": "code",
   "execution_count": 6,
   "metadata": {},
   "outputs": [
    {
     "data": {
      "text/latex": [
       "\\[\n",
       "\\begin{aligned}\n",
       "\\mathrm{reduction}_{factors_{aci}} &= \\mathrm{type}_{check} \\cdot \\mathrm{eccentricity}_{check} \\cdot 0.85 \\cdot \\mathrm{strength}_{check} \\\\&= 0.650 \\cdot 0.800 \\cdot 0.85 \\cdot 0.800 \\\\&= 0.354  \\\\[10pt]\n",
       "\\\\[10pt]\n",
       "\\mathrm{aci}_{stress} &= \\left( \\frac{ \\mathrm{reduction}_{factors_{aci}} }{ 1.4 } \\right) \\cdot 35  = \\left( \\frac{ 0.354 }{ 1.4 } \\right) \\cdot 35 &= 8.840  \n",
       "\\\\[10pt]\n",
       "\\mathrm{aci}_{capacity} &= \\mathrm{aci}_{stress} \\cdot \\mathrm{conc}_{area}  = 8.840 \\cdot 7853 &= 69420.520  \n",
       "\\end{aligned}\n",
       "\\]"
      ],
      "text/plain": [
       "<IPython.core.display.Latex object>"
      ]
     },
     "metadata": {},
     "output_type": "display_data"
    },
    {
     "data": {
      "text/html": [
       "69.421 kN"
      ],
      "text/latex": [
       "$69.421\\ \\mathrm{kN}$"
      ],
      "text/markdown": [
       "69.421 kN"
      ],
      "text/plain": [
       "69.421 kN"
      ]
     },
     "execution_count": 6,
     "metadata": {},
     "output_type": "execute_result"
    }
   ],
   "source": [
    "aci_pile_capacity(type_check(spiral_or_tied), strength_check(cylinder_or_cube), eccentricity_check(spiral_or_tied), conc_area, comp_str) * N"
   ]
  },
  {
   "attachments": {},
   "cell_type": "markdown",
   "metadata": {},
   "source": [
    "## <center>**Calculate capacity of piles accordance with Eurocode 2**<center>"
   ]
  },
  {
   "cell_type": "code",
   "execution_count": 7,
   "metadata": {},
   "outputs": [],
   "source": [
    "ec_partial_safety_factor = 0.85"
   ]
  },
  {
   "cell_type": "code",
   "execution_count": 8,
   "metadata": {},
   "outputs": [],
   "source": [
    "@handcalc(jupyter_display=True)\n",
    "def ec_pile_capacity(ec_partial_safety_factor, strength_check, conc_area, comp_str):\n",
    "    ec_capacity = (((ec_partial_safety_factor * (strength_check * comp_str)) / (1.5*1.1) / 1.4)) * conc_area\n",
    "    reduced_ec_capacity = 0.9 * ec_capacity #we reduce the capacity to account for >1m dia bores\n",
    "    return reduced_ec_capacity"
   ]
  },
  {
   "cell_type": "code",
   "execution_count": 9,
   "metadata": {},
   "outputs": [
    {
     "data": {
      "text/latex": [
       "\\[\n",
       "\\begin{aligned}\n",
       "\\mathrm{ec}_{capacity} &= \\left( \\frac{ \\mathrm{ec}_{partial_{safety_{factor}}} \\cdot \\left( \\mathrm{strength}_{check} \\cdot \\mathrm{comp}_{str} \\right) }{ 1.5 \\cdot 1.1 } \\cdot \\frac{1} { 1.4 } \\right) \\cdot \\mathrm{conc}_{area} \\\\&= \\left( \\frac{ 0.850 \\cdot \\left( 0.800 \\cdot 35 \\right) }{ 1.5 \\cdot 1.1 } \\cdot \\frac{1} { 1.4 } \\right) \\cdot 7853 \\\\&= 80909.697  \\\\[10pt]\n",
       "\\\\[10pt]\n",
       "\\mathrm{reduced}_{ec_{capacity}} &= 0.9 \\cdot \\mathrm{ec}_{capacity}  = 0.9 \\cdot 80909.697 &= 72818.727 \\; \\;\\textrm{(we reduce the capacity to account for >1m dia bores)}\n",
       "\\end{aligned}\n",
       "\\]"
      ],
      "text/plain": [
       "<IPython.core.display.Latex object>"
      ]
     },
     "metadata": {},
     "output_type": "display_data"
    },
    {
     "data": {
      "text/html": [
       "72.819 kN"
      ],
      "text/latex": [
       "$72.819\\ \\mathrm{kN}$"
      ],
      "text/markdown": [
       "72.819 kN"
      ],
      "text/plain": [
       "72.819 kN"
      ]
     },
     "execution_count": 9,
     "metadata": {},
     "output_type": "execute_result"
    }
   ],
   "source": [
    "ec_pile_capacity(ec_partial_safety_factor, strength_check (cylinder_or_cube), conc_area, comp_str) * N"
   ]
  },
  {
   "attachments": {},
   "cell_type": "markdown",
   "metadata": {},
   "source": [
    "## <center>**Calculate capacity of piles accordance with CP4**<center>"
   ]
  },
  {
   "cell_type": "code",
   "execution_count": 10,
   "metadata": {},
   "outputs": [],
   "source": [
    "cp4_eccentricity_tolerance = 0.25"
   ]
  },
  {
   "cell_type": "code",
   "execution_count": 11,
   "metadata": {},
   "outputs": [],
   "source": [
    "@handcalc(jupyter_display=True)\n",
    "def cp4_pile_capacity(cp4_eccentricity_tolerance, conc_area, comp_str):\n",
    "    cp4_capacity = cp4_eccentricity_tolerance * comp_str * conc_area\n",
    "    return cp4_capacity"
   ]
  },
  {
   "cell_type": "code",
   "execution_count": 12,
   "metadata": {},
   "outputs": [
    {
     "data": {
      "text/latex": [
       "\\[\n",
       "\\begin{aligned}\n",
       "\\mathrm{cp4}_{capacity} &= \\mathrm{cp4}_{eccentricity_{tolerance}} \\cdot \\mathrm{comp}_{str} \\cdot \\mathrm{conc}_{area}  = 0.250 \\cdot 35 \\cdot 7853 &= 68713.750  \n",
       "\\end{aligned}\n",
       "\\]"
      ],
      "text/plain": [
       "<IPython.core.display.Latex object>"
      ]
     },
     "metadata": {},
     "output_type": "display_data"
    },
    {
     "data": {
      "text/html": [
       "68.714 kN"
      ],
      "text/latex": [
       "$68.714\\ \\mathrm{kN}$"
      ],
      "text/markdown": [
       "68.714 kN"
      ],
      "text/plain": [
       "68.714 kN"
      ]
     },
     "execution_count": 12,
     "metadata": {},
     "output_type": "execute_result"
    }
   ],
   "source": [
    "cp4_pile_capacity(cp4_eccentricity_tolerance, conc_area, comp_str) * N"
   ]
  },
  {
   "attachments": {},
   "cell_type": "markdown",
   "metadata": {},
   "source": []
  }
 ],
 "metadata": {
  "kernelspec": {
   "display_name": "Python 3",
   "language": "python",
   "name": "python3"
  },
  "language_info": {
   "codemirror_mode": {
    "name": "ipython",
    "version": 3
   },
   "file_extension": ".py",
   "mimetype": "text/x-python",
   "name": "python",
   "nbconvert_exporter": "python",
   "pygments_lexer": "ipython3",
   "version": "3.10.11"
  },
  "orig_nbformat": 4
 },
 "nbformat": 4,
 "nbformat_minor": 2
}
