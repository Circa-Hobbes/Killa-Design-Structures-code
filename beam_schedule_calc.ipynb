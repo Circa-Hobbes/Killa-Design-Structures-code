{
 "cells": [
  {
   "attachments": {},
   "cell_type": "markdown",
   "metadata": {},
   "source": [
    "# <center>**Import necessary libraries**</center>\n"
   ]
  },
  {
   "cell_type": "code",
   "execution_count": 480,
   "metadata": {},
   "outputs": [
    {
     "data": {
      "text/plain": [
       "<module 'design_functions.rebar_information' from 'c:\\\\Users\\\\adnan.a\\\\Documents\\\\GitHub\\\\Killa-Design-Structures-code\\\\design_functions\\\\rebar_information.py'>"
      ]
     },
     "execution_count": 480,
     "metadata": {},
     "output_type": "execute_result"
    }
   ],
   "source": [
    "import pathlib\n",
    "import pandas as pd\n",
    "import math\n",
    "import design_functions.rebar_information as rebar_func\n",
    "import importlib\n",
    "importlib.reload(rebar_func)"
   ]
  },
  {
   "attachments": {},
   "cell_type": "markdown",
   "metadata": {},
   "source": [
    "## <center>Import and read the desired beam flexural and shear reinforcement excel file from ETABS</center>"
   ]
  },
  {
   "cell_type": "code",
   "execution_count": 481,
   "metadata": {},
   "outputs": [],
   "source": [
    "excel_file = pathlib.Path('excel_files\\example_analysis.xlsx')\n",
    "initial_df = pd.read_excel(excel_file, sheet_name=None)\n",
    "pd.set_option('display.max_rows', None)"
   ]
  },
  {
   "attachments": {},
   "cell_type": "markdown",
   "metadata": {},
   "source": [
    "## <center>Because the excel sheet has two sheets, flexural and shear, they need to be read individually</center>"
   ]
  },
  {
   "attachments": {},
   "cell_type": "markdown",
   "metadata": {},
   "source": [
    "## <center>Delete unnecessary rows and columns for simplicity</center>"
   ]
  },
  {
   "attachments": {},
   "cell_type": "markdown",
   "metadata": {},
   "source": [
    "V1 of respective df's = first two rows are deleted<br>\n",
    "V2 of respective df's = unique name, negative moment, negative combo, positive moment, and positive combo columns are removed.<br>\n",
    "V3 of respective df's = each unique beam is consolidated to extract information such as section size, unqiue name.<br>\n",
    "V4 of respective df's = ETABs section column is removed.<br>\n",
    "V5 of respective df's = V2 df but all columns are removed except bottom area reinforcement and top area reinforcement<br>\n",
    "V6 of respective df's = calculation DF including 100 indices and all rebar requirements<br>\n",
    "For shear, identifying columns are removed as they are not needed. Additionally, unique beams DF doesn't need to be made as they can be taken from flexural DF. Therefore V2 may be primarily used"
   ]
  },
  {
   "cell_type": "code",
   "execution_count": 482,
   "metadata": {},
   "outputs": [],
   "source": [
    "v1_flexural_df = initial_df['Sheet1'].drop([0,1])\n",
    "v1_shear_df = initial_df['Sheet2'].drop([0,1])"
   ]
  },
  {
   "cell_type": "code",
   "execution_count": 483,
   "metadata": {},
   "outputs": [],
   "source": [
    "v2_flexural_df = v1_flexural_df.drop(['Unnamed: 2', 'Unnamed: 5', 'Unnamed: 6', 'Unnamed: 8', 'Unnamed: 9'], axis=1)\n",
    "v2_shear_df = v1_shear_df.drop(['Unnamed: 1', 'Unnamed: 2', 'Unnamed: 3', 'Unnamed: 4', 'Unnamed: 5', 'Unnamed: 6', 'Unnamed: 8', 'Unnamed: 9', 'Unnamed: 11', 'Unnamed: 12'], axis=1)"
   ]
  },
  {
   "cell_type": "code",
   "execution_count": 484,
   "metadata": {},
   "outputs": [],
   "source": [
    "v3_flexural_df = v2_flexural_df.iloc[::3]"
   ]
  },
  {
   "attachments": {},
   "cell_type": "markdown",
   "metadata": {},
   "source": [
    "## <center>Create width and depth columns to utilise in calculations</center>"
   ]
  },
  {
   "cell_type": "code",
   "execution_count": 485,
   "metadata": {},
   "outputs": [],
   "source": [
    "v2_flexural_df.reset_index(drop=True, inplace=True)"
   ]
  },
  {
   "cell_type": "code",
   "execution_count": 486,
   "metadata": {},
   "outputs": [],
   "source": [
    "v3_flexural_df.insert(3, 'Width (mm)', None)\n",
    "v3_flexural_df.insert(4, 'Depth (mm)', None)"
   ]
  },
  {
   "cell_type": "code",
   "execution_count": 487,
   "metadata": {},
   "outputs": [],
   "source": [
    "#this function cleans the cell of unnamed: 3 column to provide the width of each respective beam.\n",
    "def clean_width_dimensions(width):\n",
    "    width_list = list(width) # turn string into list of individual indexes\n",
    "    width_list = [el.lower() for el in width_list] #use list comprehension to turn list into lower case values\n",
    "    excluded_values = ['p', 't', 'b', '-', '_', 'c', '/'] #create list of excluded indices\n",
    "    v1_width_list = [ex for ex in width_list if ex not in excluded_values] #use list comprehension to return list excluding indices\n",
    "    index_list = v1_width_list.index('x') #index the list to x to retrieve required width\n",
    "    v2_width_list = v1_width_list[:index_list] #slice the width list to the index x\n",
    "    true_width = ''.join(v2_width_list) #join the list into a string\n",
    "    return int(true_width) #turn string into int so it can be used in other functions"
   ]
  },
  {
   "cell_type": "code",
   "execution_count": 488,
   "metadata": {},
   "outputs": [],
   "source": [
    "v3_flexural_df.loc[:, 'Width (mm)'] = v3_flexural_df['Unnamed: 3'].apply(clean_width_dimensions)"
   ]
  },
  {
   "cell_type": "code",
   "execution_count": 489,
   "metadata": {},
   "outputs": [],
   "source": [
    "#this function cleans the cell of unnamed: 3 column to provide the depth of each respective beam.\n",
    "#this function follows the same steps as clean_width_dimensions function\n",
    "def clean_depth_dimensions(depth):\n",
    "    depth_list = list(depth)\n",
    "    depth_list = [el.lower() for el in depth_list]\n",
    "    excluded_values = ['p','t', 'b', '-', '_', 'c', '/']\n",
    "    v1_depth_list = [ex for ex in depth_list if ex not in excluded_values]\n",
    "    index_list = v1_depth_list.index('x')\n",
    "    v2_depth_list = v1_depth_list[1+index_list:-4]\n",
    "    true_depth = ''.join(v2_depth_list)\n",
    "    return int(true_depth)"
   ]
  },
  {
   "cell_type": "code",
   "execution_count": 490,
   "metadata": {},
   "outputs": [],
   "source": [
    "v3_flexural_df.loc[:, 'Depth (mm)'] = v3_flexural_df['Unnamed: 3'].apply(clean_depth_dimensions)"
   ]
  },
  {
   "attachments": {},
   "cell_type": "markdown",
   "metadata": {},
   "source": [
    "## <center>With the width and depth defined, remove the ETABS section, location, and rebar area columns</center>"
   ]
  },
  {
   "cell_type": "code",
   "execution_count": 491,
   "metadata": {},
   "outputs": [],
   "source": [
    "v4_flexural_df = v3_flexural_df.drop(['Unnamed: 3', 'Unnamed: 4', 'Unnamed: 7', 'Unnamed: 10'], axis=1)"
   ]
  },
  {
   "cell_type": "code",
   "execution_count": 492,
   "metadata": {},
   "outputs": [],
   "source": [
    "v4_flexural_df = v4_flexural_df.rename(columns={'Unnamed: 1': 'ETABS beam ID'})\n",
    "v2_shear_df = v2_shear_df.rename(columns={'Unnamed: 7': 'Shear rebar area (mm2/m)', 'Unnamed: 10': 'Shear tension rebar area (mm2/m)', 'Unnamed: 13': 'Longitudinal tension rebar area (mm2)'})"
   ]
  },
  {
   "attachments": {},
   "cell_type": "markdown",
   "metadata": {},
   "source": [
    "## <center>Create Dataframe to store beam reinforcement schedule</center>"
   ]
  },
  {
   "cell_type": "code",
   "execution_count": 493,
   "metadata": {},
   "outputs": [],
   "source": [
    "# Create dataframe which reflects column headings\n",
    "columns = pd.MultiIndex.from_tuples([\n",
    "    ('Storey', ''),\n",
    "    ('Etabs ID', ''),\n",
    "    ('Dimensions', 'Width (mm)'),\n",
    "    ('Dimensions', 'Depth (mm)'),\n",
    "    ('Bottom Reinforcement', 'Left (BL)'),\n",
    "    ('Bottom Reinforcement', 'Middle (B)'),\n",
    "    ('Bottom Reinforcement', 'Right (BR)'),\n",
    "    ('Top Reinforcement', 'Left (TL)'),\n",
    "    ('Top Reinforcement', 'Middle (T)'),\n",
    "    ('Top Reinforcement', 'Right (TR)'),\n",
    "    ('Shear links', 'Left (H)'),\n",
    "    ('Shear links', 'Middle (J)'),\n",
    "    ('Shear links', 'Right (K)'),\n",
    "    ('Side Face Reinforcement', 'Left'),\n",
    "    ('Side Face Reinforcement', 'Middle'),\n",
    "    ('Side Face Reinforcement', 'Right')\n",
    "])\n",
    "beam_schedule_df = pd.DataFrame(columns=columns)"
   ]
  },
  {
   "attachments": {},
   "cell_type": "markdown",
   "metadata": {},
   "source": [
    "## <center>For each index of the v4 respective df, populate the main beam_schedule_df with the necessary information</center>"
   ]
  },
  {
   "cell_type": "code",
   "execution_count": 494,
   "metadata": {},
   "outputs": [],
   "source": [
    "beam_schedule_df['Storey'] = v4_flexural_df['TABLE:  Concrete Beam Flexure Envelope - ACI 318-19']\n",
    "beam_schedule_df['Etabs ID'] = v4_flexural_df['ETABS beam ID']\n",
    "beam_schedule_df['Dimensions', 'Width (mm)'] = v4_flexural_df['Width (mm)']\n",
    "beam_schedule_df['Dimensions', 'Depth (mm)'] = v4_flexural_df['Depth (mm)']\n",
    "beam_schedule_df.reset_index(drop=True, inplace=True)"
   ]
  },
  {
   "attachments": {},
   "cell_type": "markdown",
   "metadata": {},
   "source": [
    "# <center>Create v5 df for flexure, including rebar areas and torsional longitudinal rebar<center>"
   ]
  },
  {
   "cell_type": "code",
   "execution_count": 495,
   "metadata": {},
   "outputs": [],
   "source": [
    "v5_flexural_df = v2_flexural_df.drop(['TABLE:  Concrete Beam Flexure Envelope - ACI 318-19', 'Unnamed: 1', 'Unnamed: 3'], axis=1)\n",
    "v5_flexural_df = v5_flexural_df.rename(columns={'Unnamed: 4': 'Location', 'Unnamed: 7': 'Bottom reinforcement', 'Unnamed: 10': 'Top Reinforcement'})\n",
    "v5_flexural_df.reset_index(drop=True, inplace=True)\n",
    "v2_shear_df.reset_index(drop=True, inplace=True)\n",
    "v5_flexural_df['Longitudinal tension rebar area (mm2)'] = v2_shear_df['Longitudinal tension rebar area (mm2)']"
   ]
  },
  {
   "attachments": {},
   "cell_type": "markdown",
   "metadata": {},
   "source": [
    "# <center> Create v6 df for flexure, including width and depth. This will be the df utilised for calculations.<center>"
   ]
  },
  {
   "cell_type": "code",
   "execution_count": 496,
   "metadata": {},
   "outputs": [],
   "source": [
    "#create new columns\n",
    "v5_flexural_df['Width (mm)'] = [1]*len(v5_flexural_df)\n",
    "v5_flexural_df['Depth (mm)'] = [1]*len(v5_flexural_df)\n",
    "v5_flexural_df['ETABS beam ID'] = [1]*len(v5_flexural_df)\n",
    "#add new columns to beginning of dataframe, create v6\n",
    "cols = ['ETABS beam ID', 'Width (mm)', 'Depth (mm)'] + [c for c in v5_flexural_df.columns if c not in ['ETABS beam ID', 'Width (mm)', 'Depth (mm)']]\n",
    "v6_flexural_df = v5_flexural_df[cols]"
   ]
  },
  {
   "cell_type": "code",
   "execution_count": 497,
   "metadata": {},
   "outputs": [
    {
     "ename": "ValueError",
     "evalue": "could not convert string to float: '-'",
     "output_type": "error",
     "traceback": [
      "\u001b[1;31m---------------------------------------------------------------------------\u001b[0m",
      "\u001b[1;31mValueError\u001b[0m                                Traceback (most recent call last)",
      "Cell \u001b[1;32mIn[497], line 10\u001b[0m\n\u001b[0;32m      8\u001b[0m v6_flexural_df\u001b[39m.\u001b[39minsert(\u001b[39m10\u001b[39m, \u001b[39m'\u001b[39m\u001b[39mResidual Rebar (mm2)\u001b[39m\u001b[39m'\u001b[39m, \u001b[39m'\u001b[39m\u001b[39m-\u001b[39m\u001b[39m'\u001b[39m)\n\u001b[0;32m      9\u001b[0m v6_flexural_df[\u001b[39m'\u001b[39m\u001b[39mSide Face Clear Space (mm)\u001b[39m\u001b[39m'\u001b[39m] \u001b[39m=\u001b[39m v6_flexural_df[\u001b[39m'\u001b[39m\u001b[39mDepth (mm)\u001b[39m\u001b[39m'\u001b[39m]\u001b[39m.\u001b[39mapply(rebar_func\u001b[39m.\u001b[39mside_face_count)\n\u001b[1;32m---> 10\u001b[0m v6_flexural_df[\u001b[39m'\u001b[39m\u001b[39mSide Face Reinforcement Schedule\u001b[39m\u001b[39m'\u001b[39m] \u001b[39m=\u001b[39m v6_flexural_df\u001b[39m.\u001b[39;49mapply(rebar_func\u001b[39m.\u001b[39;49mside_face_reinf, axis\u001b[39m=\u001b[39;49m\u001b[39m1\u001b[39;49m, args\u001b[39m=\u001b[39;49m(\u001b[39m'\u001b[39;49m\u001b[39mLongitudinal tension rebar area (mm2)\u001b[39;49m\u001b[39m'\u001b[39;49m, \u001b[39m'\u001b[39;49m\u001b[39mSide Face Clear Space (mm)\u001b[39;49m\u001b[39m'\u001b[39;49m, \u001b[39m'\u001b[39;49m\u001b[39mResidual Rebar (mm2)\u001b[39;49m\u001b[39m'\u001b[39;49m))\n\u001b[0;32m     11\u001b[0m v6_flexural_df\u001b[39m.\u001b[39minsert(\u001b[39m9\u001b[39m,\u001b[39m'\u001b[39m\u001b[39mBottom Rebar Area Provided (mm2)\u001b[39m\u001b[39m'\u001b[39m, v6_flexural_df\u001b[39m.\u001b[39mapply(rebar_func\u001b[39m.\u001b[39mrebar_area, axis\u001b[39m=\u001b[39m\u001b[39m1\u001b[39m, args\u001b[39m=\u001b[39m(\u001b[39m'\u001b[39m\u001b[39mRebar Count\u001b[39m\u001b[39m'\u001b[39m, \u001b[39m'\u001b[39m\u001b[39mBottom reinforcement\u001b[39m\u001b[39m'\u001b[39m)))\n\u001b[0;32m     12\u001b[0m v6_flexural_df\u001b[39m.\u001b[39minsert(\u001b[39m11\u001b[39m,\u001b[39m'\u001b[39m\u001b[39mTop Rebar Area Provided (mm2)\u001b[39m\u001b[39m'\u001b[39m, v6_flexural_df\u001b[39m.\u001b[39mapply(rebar_func\u001b[39m.\u001b[39mrebar_area, axis\u001b[39m=\u001b[39m\u001b[39m1\u001b[39m, args\u001b[39m=\u001b[39m(\u001b[39m'\u001b[39m\u001b[39mRebar Count\u001b[39m\u001b[39m'\u001b[39m, \u001b[39m'\u001b[39m\u001b[39mTop Reinforcement\u001b[39m\u001b[39m'\u001b[39m))) \n",
      "File \u001b[1;32m~\\AppData\\Local\\Packages\\PythonSoftwareFoundation.Python.3.10_qbz5n2kfra8p0\\LocalCache\\local-packages\\Python310\\site-packages\\pandas\\core\\frame.py:9428\u001b[0m, in \u001b[0;36mDataFrame.apply\u001b[1;34m(self, func, axis, raw, result_type, args, **kwargs)\u001b[0m\n\u001b[0;32m   9417\u001b[0m \u001b[39mfrom\u001b[39;00m \u001b[39mpandas\u001b[39;00m\u001b[39m.\u001b[39;00m\u001b[39mcore\u001b[39;00m\u001b[39m.\u001b[39;00m\u001b[39mapply\u001b[39;00m \u001b[39mimport\u001b[39;00m frame_apply\n\u001b[0;32m   9419\u001b[0m op \u001b[39m=\u001b[39m frame_apply(\n\u001b[0;32m   9420\u001b[0m     \u001b[39mself\u001b[39m,\n\u001b[0;32m   9421\u001b[0m     func\u001b[39m=\u001b[39mfunc,\n\u001b[1;32m   (...)\u001b[0m\n\u001b[0;32m   9426\u001b[0m     kwargs\u001b[39m=\u001b[39mkwargs,\n\u001b[0;32m   9427\u001b[0m )\n\u001b[1;32m-> 9428\u001b[0m \u001b[39mreturn\u001b[39;00m op\u001b[39m.\u001b[39;49mapply()\u001b[39m.\u001b[39m__finalize__(\u001b[39mself\u001b[39m, method\u001b[39m=\u001b[39m\u001b[39m\"\u001b[39m\u001b[39mapply\u001b[39m\u001b[39m\"\u001b[39m)\n",
      "File \u001b[1;32m~\\AppData\\Local\\Packages\\PythonSoftwareFoundation.Python.3.10_qbz5n2kfra8p0\\LocalCache\\local-packages\\Python310\\site-packages\\pandas\\core\\apply.py:678\u001b[0m, in \u001b[0;36mFrameApply.apply\u001b[1;34m(self)\u001b[0m\n\u001b[0;32m    675\u001b[0m \u001b[39melif\u001b[39;00m \u001b[39mself\u001b[39m\u001b[39m.\u001b[39mraw:\n\u001b[0;32m    676\u001b[0m     \u001b[39mreturn\u001b[39;00m \u001b[39mself\u001b[39m\u001b[39m.\u001b[39mapply_raw()\n\u001b[1;32m--> 678\u001b[0m \u001b[39mreturn\u001b[39;00m \u001b[39mself\u001b[39;49m\u001b[39m.\u001b[39;49mapply_standard()\n",
      "File \u001b[1;32m~\\AppData\\Local\\Packages\\PythonSoftwareFoundation.Python.3.10_qbz5n2kfra8p0\\LocalCache\\local-packages\\Python310\\site-packages\\pandas\\core\\apply.py:798\u001b[0m, in \u001b[0;36mFrameApply.apply_standard\u001b[1;34m(self)\u001b[0m\n\u001b[0;32m    797\u001b[0m \u001b[39mdef\u001b[39;00m \u001b[39mapply_standard\u001b[39m(\u001b[39mself\u001b[39m):\n\u001b[1;32m--> 798\u001b[0m     results, res_index \u001b[39m=\u001b[39m \u001b[39mself\u001b[39;49m\u001b[39m.\u001b[39;49mapply_series_generator()\n\u001b[0;32m    800\u001b[0m     \u001b[39m# wrap results\u001b[39;00m\n\u001b[0;32m    801\u001b[0m     \u001b[39mreturn\u001b[39;00m \u001b[39mself\u001b[39m\u001b[39m.\u001b[39mwrap_results(results, res_index)\n",
      "File \u001b[1;32m~\\AppData\\Local\\Packages\\PythonSoftwareFoundation.Python.3.10_qbz5n2kfra8p0\\LocalCache\\local-packages\\Python310\\site-packages\\pandas\\core\\apply.py:814\u001b[0m, in \u001b[0;36mFrameApply.apply_series_generator\u001b[1;34m(self)\u001b[0m\n\u001b[0;32m    811\u001b[0m \u001b[39mwith\u001b[39;00m option_context(\u001b[39m\"\u001b[39m\u001b[39mmode.chained_assignment\u001b[39m\u001b[39m\"\u001b[39m, \u001b[39mNone\u001b[39;00m):\n\u001b[0;32m    812\u001b[0m     \u001b[39mfor\u001b[39;00m i, v \u001b[39min\u001b[39;00m \u001b[39menumerate\u001b[39m(series_gen):\n\u001b[0;32m    813\u001b[0m         \u001b[39m# ignore SettingWithCopy here in case the user mutates\u001b[39;00m\n\u001b[1;32m--> 814\u001b[0m         results[i] \u001b[39m=\u001b[39m \u001b[39mself\u001b[39;49m\u001b[39m.\u001b[39;49mf(v)\n\u001b[0;32m    815\u001b[0m         \u001b[39mif\u001b[39;00m \u001b[39misinstance\u001b[39m(results[i], ABCSeries):\n\u001b[0;32m    816\u001b[0m             \u001b[39m# If we have a view on v, we need to make a copy because\u001b[39;00m\n\u001b[0;32m    817\u001b[0m             \u001b[39m#  series_generator will swap out the underlying data\u001b[39;00m\n\u001b[0;32m    818\u001b[0m             results[i] \u001b[39m=\u001b[39m results[i]\u001b[39m.\u001b[39mcopy(deep\u001b[39m=\u001b[39m\u001b[39mFalse\u001b[39;00m)\n",
      "File \u001b[1;32m~\\AppData\\Local\\Packages\\PythonSoftwareFoundation.Python.3.10_qbz5n2kfra8p0\\LocalCache\\local-packages\\Python310\\site-packages\\pandas\\core\\apply.py:133\u001b[0m, in \u001b[0;36mApply.__init__.<locals>.f\u001b[1;34m(x)\u001b[0m\n\u001b[0;32m    132\u001b[0m \u001b[39mdef\u001b[39;00m \u001b[39mf\u001b[39m(x):\n\u001b[1;32m--> 133\u001b[0m     \u001b[39mreturn\u001b[39;00m func(x, \u001b[39m*\u001b[39margs, \u001b[39m*\u001b[39m\u001b[39m*\u001b[39mkwargs)\n",
      "File \u001b[1;32mc:\\Users\\adnan.a\\Documents\\GitHub\\Killa-Design-Structures-code\\design_functions\\rebar_information.py:95\u001b[0m, in \u001b[0;36mside_face_reinf\u001b[1;34m(row, column_a, column_b, column_c)\u001b[0m\n\u001b[0;32m     93\u001b[0m \u001b[39mfor\u001b[39;00m spacing \u001b[39min\u001b[39;00m spacing_list:\n\u001b[0;32m     94\u001b[0m     \u001b[39mfor\u001b[39;00m dia \u001b[39min\u001b[39;00m dia_list:\n\u001b[1;32m---> 95\u001b[0m         \u001b[39mif\u001b[39;00m f(spacing, dia) \u001b[39m>\u001b[39m \u001b[39mfloat\u001b[39m(row[column_a]):\n\u001b[0;32m     96\u001b[0m             spacing_string \u001b[39m=\u001b[39m \u001b[39mf\u001b[39m\u001b[39m'\u001b[39m\u001b[39mT\u001b[39m\u001b[39m{\u001b[39;00mdia\u001b[39m}\u001b[39;00m\u001b[39m@\u001b[39m\u001b[39m{\u001b[39;00mspacing\u001b[39m}\u001b[39;00m\u001b[39m EF\u001b[39m\u001b[39m'\u001b[39m\n\u001b[0;32m     97\u001b[0m             \u001b[39mbreak\u001b[39;00m\n",
      "File \u001b[1;32mc:\\Users\\adnan.a\\Documents\\GitHub\\Killa-Design-Structures-code\\design_functions\\rebar_information.py:90\u001b[0m, in \u001b[0;36mside_face_reinf.<locals>.<lambda>\u001b[1;34m(x, y)\u001b[0m\n\u001b[0;32m     88\u001b[0m spacing_list \u001b[39m=\u001b[39m [\u001b[39m250\u001b[39m, \u001b[39m200\u001b[39m, \u001b[39m150\u001b[39m]\n\u001b[0;32m     89\u001b[0m dia_list \u001b[39m=\u001b[39m [\u001b[39m16\u001b[39m, \u001b[39m20\u001b[39m, \u001b[39m25\u001b[39m, \u001b[39m32\u001b[39m]\n\u001b[1;32m---> 90\u001b[0m f \u001b[39m=\u001b[39m \u001b[39mlambda\u001b[39;00m x, y: \u001b[39mfloat\u001b[39m(\u001b[39mround\u001b[39m(row[column_b] \u001b[39m/\u001b[39m x)) \u001b[39m*\u001b[39m \u001b[39mfloat\u001b[39m((np\u001b[39m.\u001b[39mpi\u001b[39m*\u001b[39m(y \u001b[39m/\u001b[39m \u001b[39m2\u001b[39m)\u001b[39m*\u001b[39m\u001b[39m*\u001b[39m\u001b[39m2\u001b[39m)) \u001b[39m-\u001b[39m \u001b[39mfloat\u001b[39;49m(row[column_c])\n\u001b[0;32m     91\u001b[0m spacing_string \u001b[39m=\u001b[39m \u001b[39m'\u001b[39m\u001b[39m'\u001b[39m\n\u001b[0;32m     92\u001b[0m \u001b[39mif\u001b[39;00m row[column_a] \u001b[39m!=\u001b[39m \u001b[39m'\u001b[39m\u001b[39mSide face reinforcement is not required\u001b[39m\u001b[39m'\u001b[39m:\n",
      "\u001b[1;31mValueError\u001b[0m: could not convert string to float: '-'"
     ]
    }
   ],
   "source": [
    "v6_flexural_df.loc[:, 'Width (mm)'] = v2_flexural_df['Unnamed: 3'].apply(clean_width_dimensions)\n",
    "v6_flexural_df.loc[:, 'Depth (mm)'] = v2_flexural_df['Unnamed: 3'].apply(clean_depth_dimensions)\n",
    "v6_flexural_df['ETABS beam ID'] = v2_flexural_df['Unnamed: 1']\n",
    "rebar_func.side_face_assessment(v6_flexural_df, 'Depth (mm)', 'Longitudinal tension rebar area (mm2)', 'Bottom reinforcement', 'Top Reinforcement')\n",
    "v6_flexural_df['Rebar Count'] = v6_flexural_df['Width (mm)'].apply(rebar_func.rebar_count)\n",
    "v6_flexural_df['Bottom Rebar Schedule'] = v6_flexural_df.apply(rebar_func.rebar_string, axis=1, args=('Rebar Count', 'Bottom reinforcement'))\n",
    "v6_flexural_df['Top Rebar Schedule'] = v6_flexural_df.apply(rebar_func.rebar_string, axis=1, args=('Rebar Count', 'Top Reinforcement'))\n",
    "v6_flexural_df.insert(10, 'Residual Rebar (mm2)', '-')\n",
    "v6_flexural_df['Side Face Clear Space (mm)'] = v6_flexural_df['Depth (mm)'].apply(rebar_func.side_face_count)\n",
    "v6_flexural_df['Side Face Reinforcement Schedule'] = v6_flexural_df.apply(rebar_func.side_face_reinf, axis=1, args=('Longitudinal tension rebar area (mm2)', 'Side Face Clear Space (mm)', 'Residual Rebar (mm2)'))\n",
    "v6_flexural_df.insert(9,'Bottom Rebar Area Provided (mm2)', v6_flexural_df.apply(rebar_func.rebar_area, axis=1, args=('Rebar Count', 'Bottom reinforcement')))\n",
    "v6_flexural_df.insert(11,'Top Rebar Area Provided (mm2)', v6_flexural_df.apply(rebar_func.rebar_area, axis=1, args=('Rebar Count', 'Top Reinforcement'))) \n",
    "v6_flexural_df['Residual Rebar (mm2)'] = v6_flexural_df.apply(lambda row: rebar_func.residual_rebar(row, 'Bottom Rebar Area Provided (mm2)', 'Bottom reinforcement', 'Top Rebar Area Provided (mm2)', 'Top Reinforcement'), axis=1)\n",
    "\n",
    "v6_flexural_df"
   ]
  },
  {
   "attachments": {},
   "cell_type": "markdown",
   "metadata": {},
   "source": [
    "# <center>With all the flexural scheduling gathered, transpose and input the information into the beam schedule DF<center>"
   ]
  },
  {
   "cell_type": "code",
   "execution_count": null,
   "metadata": {},
   "outputs": [
    {
     "data": {
      "text/html": [
       "<div>\n",
       "<style scoped>\n",
       "    .dataframe tbody tr th:only-of-type {\n",
       "        vertical-align: middle;\n",
       "    }\n",
       "\n",
       "    .dataframe tbody tr th {\n",
       "        vertical-align: top;\n",
       "    }\n",
       "\n",
       "    .dataframe thead th {\n",
       "        text-align: right;\n",
       "    }\n",
       "</style>\n",
       "<table border=\"1\" class=\"dataframe\">\n",
       "  <thead>\n",
       "    <tr style=\"text-align: right;\">\n",
       "      <th></th>\n",
       "      <th>ETABS beam ID</th>\n",
       "      <th>Bottom Rebar Schedule</th>\n",
       "      <th>Bottom Rebar Area Provided (mm2)</th>\n",
       "      <th>Top Rebar Schedule</th>\n",
       "      <th>Top Rebar Area Provided (mm2)</th>\n",
       "      <th>Residual Rebar (mm2)</th>\n",
       "      <th>Side Face Reinforcement Schedule</th>\n",
       "    </tr>\n",
       "  </thead>\n",
       "  <tbody>\n",
       "    <tr>\n",
       "      <th>0</th>\n",
       "      <td>B213</td>\n",
       "      <td>2T16</td>\n",
       "      <td>402.0</td>\n",
       "      <td>2T16</td>\n",
       "      <td>402.0</td>\n",
       "      <td>773.0</td>\n",
       "      <td>Not needed</td>\n",
       "    </tr>\n",
       "    <tr>\n",
       "      <th>1</th>\n",
       "      <td>B213</td>\n",
       "      <td>2T16</td>\n",
       "      <td>402.0</td>\n",
       "      <td>2T16</td>\n",
       "      <td>402.0</td>\n",
       "      <td>485.0</td>\n",
       "      <td>Not needed</td>\n",
       "    </tr>\n",
       "    <tr>\n",
       "      <th>2</th>\n",
       "      <td>B213</td>\n",
       "      <td>2T16</td>\n",
       "      <td>402.0</td>\n",
       "      <td>2T16</td>\n",
       "      <td>402.0</td>\n",
       "      <td>378.0</td>\n",
       "      <td>Not needed</td>\n",
       "    </tr>\n",
       "    <tr>\n",
       "      <th>3</th>\n",
       "      <td>B215</td>\n",
       "      <td>3 rows of 2T25</td>\n",
       "      <td>2940.0</td>\n",
       "      <td>2 rows of 2T32</td>\n",
       "      <td>3216.0</td>\n",
       "      <td>557.0</td>\n",
       "      <td>Not needed</td>\n",
       "    </tr>\n",
       "    <tr>\n",
       "      <th>4</th>\n",
       "      <td>B215</td>\n",
       "      <td>3 rows of 2T25</td>\n",
       "      <td>2940.0</td>\n",
       "      <td>3 rows of 2T25</td>\n",
       "      <td>2940.0</td>\n",
       "      <td>995.0</td>\n",
       "      <td>Not needed</td>\n",
       "    </tr>\n",
       "  </tbody>\n",
       "</table>\n",
       "</div>"
      ],
      "text/plain": [
       "  ETABS beam ID Bottom Rebar Schedule  Bottom Rebar Area Provided (mm2)   \n",
       "0          B213                  2T16                             402.0  \\\n",
       "1          B213                  2T16                             402.0   \n",
       "2          B213                  2T16                             402.0   \n",
       "3          B215        3 rows of 2T25                            2940.0   \n",
       "4          B215        3 rows of 2T25                            2940.0   \n",
       "\n",
       "  Top Rebar Schedule  Top Rebar Area Provided (mm2)  Residual Rebar (mm2)   \n",
       "0               2T16                          402.0                 773.0  \\\n",
       "1               2T16                          402.0                 485.0   \n",
       "2               2T16                          402.0                 378.0   \n",
       "3     2 rows of 2T32                         3216.0                 557.0   \n",
       "4     3 rows of 2T25                         2940.0                 995.0   \n",
       "\n",
       "  Side Face Reinforcement Schedule  \n",
       "0                       Not needed  \n",
       "1                       Not needed  \n",
       "2                       Not needed  \n",
       "3                       Not needed  \n",
       "4                       Not needed  "
      ]
     },
     "execution_count": 425,
     "metadata": {},
     "output_type": "execute_result"
    }
   ],
   "source": [
    "#from v6 create v7\n",
    "#only includes bottom, top, and side face sched\n",
    "\n",
    "v7_flexural_df = v6_flexural_df.drop(['Width (mm)', 'Depth (mm)', 'Location', 'Bottom reinforcement', 'Top Reinforcement', 'Longitudinal tension rebar area (mm2)', 'Rebar Count', 'Side Face Clear Space (mm)'], axis=1)\n",
    "v7_flexural_df.head()"
   ]
  }
 ],
 "metadata": {
  "kernelspec": {
   "display_name": "Python 3",
   "language": "python",
   "name": "python3"
  },
  "language_info": {
   "codemirror_mode": {
    "name": "ipython",
    "version": 3
   },
   "file_extension": ".py",
   "mimetype": "text/x-python",
   "name": "python",
   "nbconvert_exporter": "python",
   "pygments_lexer": "ipython3",
   "version": "3.10.11"
  },
  "orig_nbformat": 4
 },
 "nbformat": 4,
 "nbformat_minor": 2
}
