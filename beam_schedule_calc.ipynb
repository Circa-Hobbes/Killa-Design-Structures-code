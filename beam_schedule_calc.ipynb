{
 "cells": [
  {
   "attachments": {},
   "cell_type": "markdown",
   "metadata": {},
   "source": [
    "# <center>**Import necessary libraries**</center>\n"
   ]
  },
  {
   "cell_type": "code",
   "execution_count": 117,
   "metadata": {},
   "outputs": [
    {
     "data": {
      "text/plain": [
       "<module 'design_functions.rebar_information' from 'c:\\\\Users\\\\adnan.a\\\\Documents\\\\GitHub\\\\Killa-Design-Structures-code\\\\design_functions\\\\rebar_information.py'>"
      ]
     },
     "execution_count": 117,
     "metadata": {},
     "output_type": "execute_result"
    }
   ],
   "source": [
    "import pathlib\n",
    "import pandas as pd\n",
    "import design_functions.rebar_information as rebar_func\n",
    "import importlib\n",
    "import numpy as np\n",
    "importlib.reload(rebar_func)"
   ]
  },
  {
   "attachments": {},
   "cell_type": "markdown",
   "metadata": {},
   "source": [
    "## <center>Import and read the desired beam flexural and shear reinforcement excel file from ETABS</center>"
   ]
  },
  {
   "cell_type": "code",
   "execution_count": 118,
   "metadata": {},
   "outputs": [],
   "source": [
    "excel_file = pathlib.Path('excel_files/test_run.xlsx')\n",
    "initial_df = pd.read_excel(excel_file, sheet_name=None)\n",
    "pd.set_option('display.max_rows', None)"
   ]
  },
  {
   "attachments": {},
   "cell_type": "markdown",
   "metadata": {},
   "source": [
    "## <center>Because the excel sheet has two sheets, flexural and shear, they need to be read individually</center>"
   ]
  },
  {
   "attachments": {},
   "cell_type": "markdown",
   "metadata": {},
   "source": [
    "## <center>Delete unnecessary rows and columns for simplicity</center>"
   ]
  },
  {
   "attachments": {},
   "cell_type": "markdown",
   "metadata": {},
   "source": [
    "V1 of respective df's = first two rows are deleted<br>\n",
    "V2 of respective df's = unique name, negative moment, negative combo, positive moment, and positive combo columns are removed.<br>\n",
    "V3 of respective df's = each unique beam is consolidated to extract information such as section size, unqiue name.<br>\n",
    "V4 of respective df's = ETABs section column is removed.<br>\n",
    "V5 of respective df's = V2 df but all columns are removed except bottom area reinforcement and top area reinforcement<br>\n",
    "V6 of respective df's = calculation DF including 100 indices and all rebar requirements<br>\n",
    "For shear, identifying columns are removed as they are not needed. Additionally, unique beams DF doesn't need to be made as they can be taken from flexural DF. Therefore V2 may be primarily used"
   ]
  },
  {
   "cell_type": "code",
   "execution_count": 119,
   "metadata": {},
   "outputs": [],
   "source": [
    "v1_flexural_df = initial_df['Conc Bm Flx Env - ACI 318-19'].drop([0,1])\n",
    "v1_shear_df = initial_df['Conc Bm Shr Env - ACI 318-19'].drop([0,1])\n",
    "v1_flexural_df.reset_index(drop=True, inplace=True)\n",
    "v1_shear_df.reset_index(drop=True, inplace=True)"
   ]
  },
  {
   "cell_type": "code",
   "execution_count": 120,
   "metadata": {},
   "outputs": [],
   "source": [
    "v2_flexural_df = v1_flexural_df.drop(['Unnamed: 2', 'Unnamed: 5', 'Unnamed: 6', 'Unnamed: 8', 'Unnamed: 9'], axis=1).copy()\n",
    "v2_shear_df = v1_shear_df.drop(['Unnamed: 1', 'Unnamed: 2', 'Unnamed: 3', 'Unnamed: 4', 'Unnamed: 5', 'Unnamed: 6', 'Unnamed: 8', 'Unnamed: 9', 'Unnamed: 11', 'Unnamed: 12'], axis=1).copy()"
   ]
  },
  {
   "cell_type": "code",
   "execution_count": 121,
   "metadata": {},
   "outputs": [],
   "source": [
    "v3_flexural_df = v2_flexural_df.iloc[::3].copy()"
   ]
  },
  {
   "attachments": {},
   "cell_type": "markdown",
   "metadata": {},
   "source": [
    "## <center>Create width and depth columns to utilise in calculations</center>"
   ]
  },
  {
   "cell_type": "code",
   "execution_count": 122,
   "metadata": {},
   "outputs": [],
   "source": [
    "v2_flexural_df.reset_index(drop=True, inplace=True)"
   ]
  },
  {
   "cell_type": "code",
   "execution_count": 123,
   "metadata": {},
   "outputs": [],
   "source": [
    "v3_flexural_df.insert(3, 'Width (mm)', None)\n",
    "v3_flexural_df.insert(4, 'Depth (mm)', None)"
   ]
  },
  {
   "cell_type": "code",
   "execution_count": 124,
   "metadata": {},
   "outputs": [],
   "source": [
    "v3_flexural_df.loc[:, 'Width (mm)'] = v3_flexural_df['Unnamed: 3'].apply(rebar_func.clean_width_dimensions)"
   ]
  },
  {
   "cell_type": "code",
   "execution_count": 125,
   "metadata": {},
   "outputs": [],
   "source": [
    "v3_flexural_df.loc[:, 'Depth (mm)'] = v3_flexural_df['Unnamed: 3'].apply(rebar_func.clean_depth_dimensions)"
   ]
  },
  {
   "attachments": {},
   "cell_type": "markdown",
   "metadata": {},
   "source": [
    "## <center>With the width and depth defined, remove the ETABS section, location, and rebar area columns</center>"
   ]
  },
  {
   "cell_type": "code",
   "execution_count": 126,
   "metadata": {},
   "outputs": [],
   "source": [
    "v4_flexural_df = v3_flexural_df.drop(['Unnamed: 3', 'Unnamed: 4', 'Unnamed: 7', 'Unnamed: 10'], axis=1).copy()"
   ]
  },
  {
   "cell_type": "code",
   "execution_count": 127,
   "metadata": {},
   "outputs": [],
   "source": [
    "v4_flexural_df = v4_flexural_df.rename(columns={'Unnamed: 1': 'ETABS beam ID'})\n",
    "v2_shear_df = v2_shear_df.rename(columns={'Unnamed: 7': 'Shear rebar area (mm2/m)', 'Unnamed: 10': 'Shear tension rebar area (mm2/m)', 'Unnamed: 13': 'Longitudinal tension rebar area (mm2)'})"
   ]
  },
  {
   "attachments": {},
   "cell_type": "markdown",
   "metadata": {},
   "source": [
    "## <center>Create Dataframe to store beam reinforcement schedule</center>"
   ]
  },
  {
   "cell_type": "code",
   "execution_count": 128,
   "metadata": {},
   "outputs": [],
   "source": [
    "# Create dataframe which reflects column headings\n",
    "columns = pd.MultiIndex.from_tuples([\n",
    "    ('Storey', ''),\n",
    "    ('Etabs ID', ''),\n",
    "    ('Dimensions', 'Width (mm)'),\n",
    "    ('Dimensions', 'Depth (mm)'),\n",
    "    ('Bottom Reinforcement', 'Left (BL)'),\n",
    "    ('Bottom Reinforcement', 'Middle (B)'),\n",
    "    ('Bottom Reinforcement', 'Right (BR)'),\n",
    "    ('Top Reinforcement', 'Left (TL)'),\n",
    "    ('Top Reinforcement', 'Middle (T)'),\n",
    "    ('Top Reinforcement', 'Right (TR)'),\n",
    "    ('Side Face Reinforcement', 'Left'),\n",
    "    ('Side Face Reinforcement', 'Middle'),\n",
    "    ('Side Face Reinforcement', 'Right'),\n",
    "    ('Shear links', 'Left (H)'),\n",
    "    ('Shear links', 'Middle (J)'),\n",
    "    ('Shear links', 'Right (K)')\n",
    "])\n",
    "beam_schedule_df = pd.DataFrame(columns=columns)"
   ]
  },
  {
   "attachments": {},
   "cell_type": "markdown",
   "metadata": {},
   "source": [
    "## <center>For each index of the v4 respective df, populate the main beam_schedule_df with the necessary information</center>"
   ]
  },
  {
   "cell_type": "code",
   "execution_count": 129,
   "metadata": {},
   "outputs": [],
   "source": [
    "beam_schedule_df['Storey'] = v4_flexural_df['TABLE:  Concrete Beam Flexure Envelope - ACI 318-19']\n",
    "beam_schedule_df['Etabs ID'] = v4_flexural_df['ETABS beam ID']\n",
    "beam_schedule_df['Dimensions', 'Width (mm)'] = v4_flexural_df['Width (mm)']\n",
    "beam_schedule_df['Dimensions', 'Depth (mm)'] = v4_flexural_df['Depth (mm)']\n",
    "beam_schedule_df.reset_index(drop=True, inplace=True)"
   ]
  },
  {
   "attachments": {},
   "cell_type": "markdown",
   "metadata": {},
   "source": [
    "# <center>Create v5 df for flexure, including rebar areas and torsional longitudinal rebar<center>"
   ]
  },
  {
   "cell_type": "code",
   "execution_count": 130,
   "metadata": {},
   "outputs": [],
   "source": [
    "v2_shear_df.reset_index(drop=True, inplace=True)\n",
    "v5_flexural_df = v2_flexural_df.drop(['TABLE:  Concrete Beam Flexure Envelope - ACI 318-19', 'Unnamed: 1', 'Unnamed: 3'], axis=1).copy()\n",
    "v5_flexural_df = v5_flexural_df.rename(columns={'Unnamed: 4': 'Location', 'Unnamed: 10': 'Bottom reinforcement', 'Unnamed: 7': 'Top Reinforcement'})\n",
    "v5_flexural_df.reset_index(drop=True, inplace=True)\n",
    "v5_flexural_df['Longitudinal tension rebar area (mm2)'] = v2_shear_df['Longitudinal tension rebar area (mm2)']"
   ]
  },
  {
   "attachments": {},
   "cell_type": "markdown",
   "metadata": {},
   "source": [
    "# <center> Create v6 df for flexure, including width and depth. This will be the df utilised for calculations.<center>"
   ]
  },
  {
   "cell_type": "code",
   "execution_count": 131,
   "metadata": {},
   "outputs": [],
   "source": [
    "#create new columns\n",
    "v5_flexural_df['Width (mm)'] = [1]*len(v5_flexural_df)\n",
    "v5_flexural_df['Depth (mm)'] = [1]*len(v5_flexural_df)\n",
    "v5_flexural_df['ETABS beam ID'] = [1]*len(v5_flexural_df)\n",
    "#add new columns to beginning of dataframe, create v6\n",
    "cols = ['ETABS beam ID', 'Width (mm)', 'Depth (mm)'] + [c for c in v5_flexural_df.columns if c not in ['ETABS beam ID', 'Width (mm)', 'Depth (mm)']]\n",
    "v6_flexural_df = v5_flexural_df[cols].copy()"
   ]
  },
  {
   "cell_type": "code",
   "execution_count": 132,
   "metadata": {},
   "outputs": [],
   "source": [
    "v6_flexural_df.loc[:, 'Width (mm)'] = v2_flexural_df['Unnamed: 3'].apply(rebar_func.clean_width_dimensions)\n",
    "v6_flexural_df.loc[:, 'Depth (mm)'] = v2_flexural_df['Unnamed: 3'].apply(rebar_func.clean_depth_dimensions)\n",
    "v6_flexural_df.insert(4, 'Flexural overstressed (Combo 1)', '-')\n",
    "v6_flexural_df.insert(5, 'Flexural overstressed (Combo 2)', '-')\n",
    "v6_flexural_df.insert(6,'Shear overstressed', '-')\n",
    "v6_flexural_df.loc[:, 'Shear overstressed'] = v1_shear_df.apply(rebar_func.shear_overstressed_check, axis=1, args=['Unnamed: 6'])\n",
    "v6_flexural_df.loc[:, 'Flexural overstressed (Combo 1)'] = v1_flexural_df.apply(rebar_func.flex_overstressed_check, axis=1, args=('Unnamed: 6', 'Unnamed: 9')) #check if beam is overstressed in flexure\n",
    "v6_flexural_df.loc[:, 'Flexural overstressed (Combo 2)'] = v1_flexural_df.apply(rebar_func.flex_overstressed_check, axis=1, args=('Unnamed: 6', 'Unnamed: 9')) #check if beam is overstressed in flexure\n",
    "v6_flexural_df.loc[:, 'ETABS beam ID'] = v2_flexural_df['Unnamed: 1']\n",
    "v6_flexural_df.insert(8, 'Residual Rebar (mm2)', '-')\n",
    "rebar_func.side_face_assessment(v6_flexural_df, 'Depth (mm)', 'Longitudinal tension rebar area (mm2)', 'Bottom reinforcement', 'Top Reinforcement')\n",
    "v6_flexural_df.loc[:, 'Rebar Count'] = v6_flexural_df.loc[:, 'Width (mm)'].apply(rebar_func.rebar_count)\n",
    "v6_flexural_df.loc[:, 'Bottom Rebar Schedule'] = v6_flexural_df.apply(rebar_func.rebar_string, axis=1, args=('Rebar Count', 'Bottom reinforcement', 'Flexural overstressed (Combo 1)', 'Flexural overstressed (Combo 2)'))\n",
    "v6_flexural_df.loc[:, 'Top Rebar Schedule'] = v6_flexural_df.apply(rebar_func.rebar_string, axis=1, args=('Rebar Count', 'Top Reinforcement', 'Flexural overstressed (Combo 1)', 'Flexural overstressed (Combo 2)'))\n",
    "v6_flexural_df.insert(9,'Bottom Rebar Area Provided (mm2)', v6_flexural_df.apply(rebar_func.rebar_area, axis=1, args=('Rebar Count', 'Bottom reinforcement', 'Flexural overstressed (Combo 1)', 'Flexural overstressed (Combo 2)')))\n",
    "v6_flexural_df.insert(11,'Top Rebar Area Provided (mm2)', v6_flexural_df.apply(rebar_func.rebar_area, axis=1, args=('Rebar Count', 'Top Reinforcement', 'Flexural overstressed (Combo 1)', 'Flexural overstressed (Combo 2)'))) \n",
    "v6_flexural_df.loc[:, 'Residual Rebar (mm2)'] = v6_flexural_df.apply(lambda row: rebar_func.residual_rebar(row, 'Bottom Rebar Area Provided (mm2)', 'Bottom reinforcement', 'Top Rebar Area Provided (mm2)', 'Top Reinforcement'), axis=1)\n",
    "v6_flexural_df.loc[:, 'Side Face Clear Space (mm)'] = v6_flexural_df['Depth (mm)'].apply(rebar_func.side_face_count)\n",
    "v6_flexural_df.insert(14, 'Side Face Reinforcement Provided (mm2)', '-')\n",
    "v6_flexural_df.loc[:, 'Side Face Reinforcement Provided (mm2)'] = v6_flexural_df.apply(rebar_func.side_face_area, axis=1, args=('Longitudinal tension rebar area (mm2)', 'Side Face Clear Space (mm)', 'Residual Rebar (mm2)', 'Shear overstressed'))\n",
    "v6_flexural_df.loc[:, 'Side Face Reinforcement Schedule'] = v6_flexural_df.apply(rebar_func.side_face_reinf, axis=1, args=('Longitudinal tension rebar area (mm2)', 'Side Face Clear Space (mm)', 'Residual Rebar (mm2)', 'Shear overstressed'))\n",
    "move_1, move_2, move_3, move_4 = v6_flexural_df.pop('Residual Rebar (mm2)'), v6_flexural_df.pop('Top Rebar Area Provided (mm2)'), v6_flexural_df.pop('Bottom Rebar Area Provided (mm2)'), v6_flexural_df.pop('Side Face Clear Space (mm)')\n",
    "v6_flexural_df.insert(8, 'Top Rebar Area Provided (mm2)', move_2)\n",
    "v6_flexural_df.insert(10, 'Bottom Rebar Area Provided (mm2)', move_3)\n",
    "v6_flexural_df.insert(11, 'Residual Rebar (mm2)', move_1)\n",
    "v6_flexural_df.insert(14, 'Side Face Clear Space (mm)', move_4)"
   ]
  },
  {
   "attachments": {},
   "cell_type": "markdown",
   "metadata": {},
   "source": [
    "## <center>Create calculation process for shear reinforcement<center>"
   ]
  },
  {
   "cell_type": "code",
   "execution_count": 133,
   "metadata": {},
   "outputs": [],
   "source": [
    "v2_shear_df.loc[:, 'Shear rebar area (mm2/m)'] = v2_shear_df['Shear rebar area (mm2/m)'].fillna('O/S')\n",
    "v2_shear_df.loc[:, 'Required Shear Area (mm2)'] = v2_shear_df.apply(rebar_func.shear_area_req, axis=1, args=('Shear rebar area (mm2/m)', 'Shear tension rebar area (mm2/m)'))\n",
    "v2_shear_df.insert(1, 'Width (mm)', v6_flexural_df['Width (mm)'])\n",
    "v2_shear_df.insert(6, 'Required Shear Legs', '-')\n",
    "v2_shear_df.loc[:, 'Required Shear Legs'] = v2_shear_df['Width (mm)'].apply(rebar_func.req_legs)\n",
    "v2_shear_df.insert(7, 'Shear Link Schedule', '-')\n",
    "v2_shear_df.loc[:, 'Shear Link Schedule'] = v2_shear_df.apply(rebar_func.shear_string, axis=1, args=('Required Shear Legs', 'Required Shear Area (mm2)', 'Shear rebar area (mm2/m)'))"
   ]
  },
  {
   "attachments": {},
   "cell_type": "markdown",
   "metadata": {},
   "source": [
    "# <center>With all the flexural and shear scheduling gathered, transpose and input the information into the beam schedule DF<center>"
   ]
  },
  {
   "cell_type": "code",
   "execution_count": 134,
   "metadata": {},
   "outputs": [],
   "source": [
    "#from v6 create v7\n",
    "#only includes bottom, top, and side face sched\n",
    "v7_flexural_df = v6_flexural_df.drop(['Width (mm)', 'Depth (mm)', 'Location', 'Bottom reinforcement', 'Top Reinforcement', 'Longitudinal tension rebar area (mm2)', 'Rebar Count', 'Side Face Clear Space (mm)', 'Residual Rebar (mm2)', 'Bottom Rebar Area Provided (mm2)', 'Top Rebar Area Provided (mm2)'], axis=1).copy()\n",
    "v7_flexural_df.reset_index(drop=True, inplace=True)\n",
    "v3_shear_df = v2_shear_df.drop(['Width (mm)', 'Shear rebar area (mm2/m)', 'Shear tension rebar area (mm2/m)', 'Longitudinal tension rebar area (mm2)', 'Required Shear Area (mm2)', 'Required Shear Legs'], axis=1).copy()\n",
    "v3_shear_df = v3_shear_df.iloc[:, 1:].copy()\n",
    "v3_shear_df.reset_index(drop=True, inplace=True)\n",
    "\n",
    "side_face_df = v7_flexural_df.drop(['ETABS beam ID', 'Flexural overstressed (Combo 1)', 'Flexural overstressed (Combo 2)', 'Shear overstressed', 'Top Rebar Schedule', 'Bottom Rebar Schedule'], axis=1).copy()\n",
    "\n",
    "def replace_with_max(group):\n",
    "    # Convert 'Side Face Reinforcement Provided (mm2)' to numeric, making non-numeric values NaN\n",
    "    group['Side Face Reinforcement Provided (mm2)'] = pd.to_numeric(group['Side Face Reinforcement Provided (mm2)'], errors='coerce')\n",
    "\n",
    "    # If all values are NaN, leave the group as it is\n",
    "    if group['Side Face Reinforcement Provided (mm2)'].isna().all():\n",
    "        return group\n",
    "\n",
    "    # Find the row with the maximum value\n",
    "    max_row = group.loc[group['Side Face Reinforcement Provided (mm2)'].idxmax()]\n",
    "\n",
    "    # Replace all values in the group with the values from the max row\n",
    "    group['Side Face Reinforcement Provided (mm2)'] = max_row['Side Face Reinforcement Provided (mm2)']\n",
    "    group['Side Face Reinforcement Schedule'] = max_row['Side Face Reinforcement Schedule']\n",
    "    return group\n",
    "\n",
    "# Create a 'Group' column for grouping\n",
    "side_face_df['Group'] = np.repeat(range(len(side_face_df) // 3), 3)\n",
    "\n",
    "# Apply the function to each group\n",
    "side_face_df = side_face_df.groupby('Group').apply(replace_with_max)\n",
    "\n",
    "# Drop the 'Group' column\n",
    "side_face_df = side_face_df.drop(columns='Group')\n",
    "\n",
    "side_face_df = side_face_df.reset_index(drop=True)\n",
    "\n",
    "#update v7_flexural_df with new side face reinf schedule\n",
    "\n",
    "side_face_df = side_face_df.drop(columns='Side Face Reinforcement Provided (mm2)')\n",
    "\n",
    "v7_flexural_df['Side Face Reinforcement Schedule'] = side_face_df['Side Face Reinforcement Schedule']"
   ]
  },
  {
   "cell_type": "code",
   "execution_count": 135,
   "metadata": {},
   "outputs": [
    {
     "data": {
      "text/html": [
       "<div>\n",
       "<style scoped>\n",
       "    .dataframe tbody tr th:only-of-type {\n",
       "        vertical-align: middle;\n",
       "    }\n",
       "\n",
       "    .dataframe tbody tr th {\n",
       "        vertical-align: top;\n",
       "    }\n",
       "\n",
       "    .dataframe thead th {\n",
       "        text-align: right;\n",
       "    }\n",
       "</style>\n",
       "<table border=\"1\" class=\"dataframe\">\n",
       "  <thead>\n",
       "    <tr style=\"text-align: right;\">\n",
       "      <th></th>\n",
       "      <th>0</th>\n",
       "      <th>1</th>\n",
       "      <th>2</th>\n",
       "    </tr>\n",
       "  </thead>\n",
       "  <tbody>\n",
       "    <tr>\n",
       "      <th>0</th>\n",
       "      <td>2 rows of 5T16</td>\n",
       "      <td>3 rows of 5T16</td>\n",
       "      <td>3 rows of 5T16</td>\n",
       "    </tr>\n",
       "    <tr>\n",
       "      <th>1</th>\n",
       "      <td>2 rows of 5T16</td>\n",
       "      <td>2 rows of 5T16</td>\n",
       "      <td>2 rows of 5T16</td>\n",
       "    </tr>\n",
       "    <tr>\n",
       "      <th>2</th>\n",
       "      <td>2T16</td>\n",
       "      <td>2T16</td>\n",
       "      <td>2T16</td>\n",
       "    </tr>\n",
       "    <tr>\n",
       "      <th>3</th>\n",
       "      <td>2T16</td>\n",
       "      <td>2T16</td>\n",
       "      <td>2T16</td>\n",
       "    </tr>\n",
       "    <tr>\n",
       "      <th>4</th>\n",
       "      <td>2T16</td>\n",
       "      <td>2T16</td>\n",
       "      <td>2T16</td>\n",
       "    </tr>\n",
       "  </tbody>\n",
       "</table>\n",
       "</div>"
      ],
      "text/plain": [
       "                0               1               2\n",
       "0  2 rows of 5T16  3 rows of 5T16  3 rows of 5T16\n",
       "1  2 rows of 5T16  2 rows of 5T16  2 rows of 5T16\n",
       "2            2T16            2T16            2T16\n",
       "3            2T16            2T16            2T16\n",
       "4            2T16            2T16            2T16"
      ]
     },
     "execution_count": 135,
     "metadata": {},
     "output_type": "execute_result"
    }
   ],
   "source": [
    "v3_shear_df['new_index'] = np.repeat(range(len(v3_shear_df) // 3), 3)[:len(v3_shear_df)]\n",
    "v3_shear_df_grouped = v3_shear_df.groupby('new_index')['Shear Link Schedule'].apply(list).apply(pd.Series).reset_index(drop=True)\n",
    "\n",
    "v7_flexural_df['new_index'] = np.repeat(range(len(v7_flexural_df) // 3), 3)[:len(v7_flexural_df)]\n",
    "v7_flexural_df_grouped_Bottom_Rebar = v7_flexural_df.groupby('new_index')['Bottom Rebar Schedule'].apply(list).apply(pd.Series).reset_index(drop=True).copy()\n",
    "v7_flexural_df_grouped_Top_Rebar = v7_flexural_df.groupby('new_index')['Top Rebar Schedule'].apply(list).apply(pd.Series).reset_index(drop=True).copy()\n",
    "v7_flexural_df_grouped_Side_Rebar = v7_flexural_df.groupby('new_index')['Side Face Reinforcement Schedule'].apply(list).apply(pd.Series).reset_index(drop=True).copy()\n",
    "v7_flexural_df_grouped_Bottom_Rebar.head()"
   ]
  },
  {
   "cell_type": "code",
   "execution_count": 136,
   "metadata": {},
   "outputs": [],
   "source": [
    "beam_schedule_df[('Bottom Reinforcement', 'Left (BL)')].update(v7_flexural_df_grouped_Bottom_Rebar[0])\n",
    "beam_schedule_df[('Bottom Reinforcement', 'Middle (B)')].update(v7_flexural_df_grouped_Bottom_Rebar[1])\n",
    "beam_schedule_df[('Bottom Reinforcement', 'Right (BR)')].update(v7_flexural_df_grouped_Bottom_Rebar[2])\n",
    "beam_schedule_df[('Top Reinforcement', 'Left (TL)')].update(v7_flexural_df_grouped_Top_Rebar[0])\n",
    "beam_schedule_df[('Top Reinforcement', 'Middle (T)')].update(v7_flexural_df_grouped_Top_Rebar[1])\n",
    "beam_schedule_df[('Top Reinforcement', 'Right (TR)')].update(v7_flexural_df_grouped_Top_Rebar[2])\n",
    "beam_schedule_df[('Side Face Reinforcement', 'Left')].update(v7_flexural_df_grouped_Side_Rebar[0])\n",
    "beam_schedule_df[('Side Face Reinforcement', 'Middle')].update(v7_flexural_df_grouped_Side_Rebar[1])\n",
    "beam_schedule_df[('Side Face Reinforcement', 'Right')].update(v7_flexural_df_grouped_Side_Rebar[2])\n",
    "beam_schedule_df[('Shear links', 'Left (H)')].update(v3_shear_df_grouped[0])\n",
    "beam_schedule_df[('Shear links', 'Middle (J)')].update(v3_shear_df_grouped[1])\n",
    "beam_schedule_df[('Shear links', 'Right (K)')].update(v3_shear_df_grouped[2])\n",
    "# beam_schedule_df\n",
    "beam_schedule_df.to_excel('Mausam Check_v2.xlsx')"
   ]
  }
 ],
 "metadata": {
  "kernelspec": {
   "display_name": "Python 3",
   "language": "python",
   "name": "python3"
  },
  "language_info": {
   "codemirror_mode": {
    "name": "ipython",
    "version": 3
   },
   "file_extension": ".py",
   "mimetype": "text/x-python",
   "name": "python",
   "nbconvert_exporter": "python",
   "pygments_lexer": "ipython3",
   "version": "3.10.11"
  },
  "orig_nbformat": 4
 },
 "nbformat": 4,
 "nbformat_minor": 2
}
