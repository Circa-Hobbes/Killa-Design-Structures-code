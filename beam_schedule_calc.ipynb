{
 "cells": [
  {
   "attachments": {},
   "cell_type": "markdown",
   "metadata": {},
   "source": [
    "# <center>**Import necessary libraries**</center>\n"
   ]
  },
  {
   "cell_type": "code",
   "execution_count": 40,
   "metadata": {},
   "outputs": [
    {
     "data": {
      "text/plain": [
       "<module 'design_functions.rebar_information' from 'c:\\\\Users\\\\adnan.a\\\\Documents\\\\GitHub\\\\Killa-Design-Structures-code\\\\design_functions\\\\rebar_information.py'>"
      ]
     },
     "execution_count": 40,
     "metadata": {},
     "output_type": "execute_result"
    }
   ],
   "source": [
    "import pathlib\n",
    "import pandas as pd\n",
    "import math\n",
    "import design_functions.rebar_information as rebar_func\n",
    "import importlib\n",
    "importlib.reload(rebar_func)"
   ]
  },
  {
   "attachments": {},
   "cell_type": "markdown",
   "metadata": {},
   "source": [
    "## <center>Import and read the desired beam flexural and shear reinforcement excel file from ETABS</center>"
   ]
  },
  {
   "cell_type": "code",
   "execution_count": 41,
   "metadata": {},
   "outputs": [],
   "source": [
    "excel_file = pathlib.Path('excel_files\\example_analysis.xlsx')\n",
    "initial_df = pd.read_excel(excel_file, sheet_name=None)\n",
    "pd.set_option('display.max_rows', None)"
   ]
  },
  {
   "attachments": {},
   "cell_type": "markdown",
   "metadata": {},
   "source": [
    "## <center>Because the excel sheet has two sheets, flexural and shear, they need to be read individually</center>"
   ]
  },
  {
   "attachments": {},
   "cell_type": "markdown",
   "metadata": {},
   "source": [
    "## <center>Delete unnecessary rows and columns for simplicity</center>"
   ]
  },
  {
   "attachments": {},
   "cell_type": "markdown",
   "metadata": {},
   "source": [
    "V1 of respective df's = first two rows are deleted<br>\n",
    "V2 of respective df's = unique name, negative moment, negative combo, positive moment, and positive combo columns are removed.<br>\n",
    "V3 of respective df's = each unique beam is consolidated to extract information such as section size, unqiue name.<br>\n",
    "V4 of respective df's = ETABs section column is removed.<br>\n",
    "V5 of respective df's = V2 df but all columns are removed except bottom area reinforcement and top area reinforcement<br>\n",
    "V6 of respective df's = calculation DF including 100 indices and all rebar requirements<br>\n",
    "For shear, identifying columns are removed as they are not needed. Additionally, unique beams DF doesn't need to be made as they can be taken from flexural DF. Therefore V2 may be primarily used"
   ]
  },
  {
   "cell_type": "code",
   "execution_count": 42,
   "metadata": {},
   "outputs": [],
   "source": [
    "v1_flexural_df = initial_df['Sheet1'].drop([0,1])\n",
    "v1_shear_df = initial_df['Sheet2'].drop([0,1])"
   ]
  },
  {
   "cell_type": "code",
   "execution_count": 43,
   "metadata": {},
   "outputs": [],
   "source": [
    "v2_flexural_df = v1_flexural_df.drop(['Unnamed: 2', 'Unnamed: 5', 'Unnamed: 6', 'Unnamed: 8', 'Unnamed: 9'], axis=1)\n",
    "v2_shear_df = v1_shear_df.drop(['Unnamed: 1', 'Unnamed: 2', 'Unnamed: 3', 'Unnamed: 4', 'Unnamed: 5', 'Unnamed: 6', 'Unnamed: 8', 'Unnamed: 9', 'Unnamed: 11', 'Unnamed: 12'], axis=1)"
   ]
  },
  {
   "cell_type": "code",
   "execution_count": 44,
   "metadata": {},
   "outputs": [],
   "source": [
    "v3_flexural_df = v2_flexural_df.iloc[::3]"
   ]
  },
  {
   "attachments": {},
   "cell_type": "markdown",
   "metadata": {},
   "source": [
    "## <center>Create width and depth columns to utilise in calculations</center>"
   ]
  },
  {
   "cell_type": "code",
   "execution_count": 45,
   "metadata": {},
   "outputs": [],
   "source": [
    "v2_flexural_df.reset_index(drop=True, inplace=True)"
   ]
  },
  {
   "cell_type": "code",
   "execution_count": 46,
   "metadata": {},
   "outputs": [],
   "source": [
    "v3_flexural_df.insert(3, 'Width (mm)', None)\n",
    "v3_flexural_df.insert(4, 'Depth (mm)', None)"
   ]
  },
  {
   "cell_type": "code",
   "execution_count": 47,
   "metadata": {},
   "outputs": [],
   "source": [
    "#this function cleans the cell of unnamed: 3 column to provide the width of each respective beam.\n",
    "def clean_width_dimensions(width):\n",
    "    width_list = list(width) # turn string into list of individual indexes\n",
    "    width_list = [el.lower() for el in width_list] #use list comprehension to turn list into lower case values\n",
    "    excluded_values = ['p', 't', 'b', '-', '_', 'c', '/'] #create list of excluded indices\n",
    "    v1_width_list = [ex for ex in width_list if ex not in excluded_values] #use list comprehension to return list excluding indices\n",
    "    index_list = v1_width_list.index('x') #index the list to x to retrieve required width\n",
    "    v2_width_list = v1_width_list[:index_list] #slice the width list to the index x\n",
    "    true_width = ''.join(v2_width_list) #join the list into a string\n",
    "    return int(true_width) #turn string into int so it can be used in other functions"
   ]
  },
  {
   "cell_type": "code",
   "execution_count": 48,
   "metadata": {},
   "outputs": [],
   "source": [
    "v3_flexural_df.loc[:, 'Width (mm)'] = v3_flexural_df['Unnamed: 3'].apply(clean_width_dimensions)"
   ]
  },
  {
   "cell_type": "code",
   "execution_count": 49,
   "metadata": {},
   "outputs": [],
   "source": [
    "#this function cleans the cell of unnamed: 3 column to provide the depth of each respective beam.\n",
    "#this function follows the same steps as clean_width_dimensions function\n",
    "def clean_depth_dimensions(depth):\n",
    "    depth_list = list(depth)\n",
    "    depth_list = [el.lower() for el in depth_list]\n",
    "    excluded_values = ['p','t', 'b', '-', '_', 'c', '/']\n",
    "    v1_depth_list = [ex for ex in depth_list if ex not in excluded_values]\n",
    "    index_list = v1_depth_list.index('x')\n",
    "    v2_depth_list = v1_depth_list[1+index_list:-4]\n",
    "    true_depth = ''.join(v2_depth_list)\n",
    "    return int(true_depth)"
   ]
  },
  {
   "cell_type": "code",
   "execution_count": 50,
   "metadata": {},
   "outputs": [],
   "source": [
    "v3_flexural_df.loc[:, 'Depth (mm)'] = v3_flexural_df['Unnamed: 3'].apply(clean_depth_dimensions)"
   ]
  },
  {
   "attachments": {},
   "cell_type": "markdown",
   "metadata": {},
   "source": [
    "## <center>With the width and depth defined, remove the ETABS section, location, and rebar area columns</center>"
   ]
  },
  {
   "cell_type": "code",
   "execution_count": 51,
   "metadata": {},
   "outputs": [],
   "source": [
    "v4_flexural_df = v3_flexural_df.drop(['Unnamed: 3', 'Unnamed: 4', 'Unnamed: 7', 'Unnamed: 10'], axis=1)"
   ]
  },
  {
   "cell_type": "code",
   "execution_count": 52,
   "metadata": {},
   "outputs": [],
   "source": [
    "v4_flexural_df = v4_flexural_df.rename(columns={'Unnamed: 1': 'ETABS beam ID'})\n",
    "v2_shear_df = v2_shear_df.rename(columns={'Unnamed: 7': 'Shear rebar area (mm2/m)', 'Unnamed: 10': 'Shear tension rebar area (mm2/m)', 'Unnamed: 13': 'Longitudinal tension rebar area (mm2)'})"
   ]
  },
  {
   "attachments": {},
   "cell_type": "markdown",
   "metadata": {},
   "source": [
    "## <center>Create Dataframe to store beam reinforcement schedule</center>"
   ]
  },
  {
   "cell_type": "code",
   "execution_count": 53,
   "metadata": {},
   "outputs": [],
   "source": [
    "# Create dataframe which reflects column headings\n",
    "columns = pd.MultiIndex.from_tuples([\n",
    "    ('Storey', ''),\n",
    "    ('Etabs ID', ''),\n",
    "    ('Dimensions', 'Width (mm)'),\n",
    "    ('Dimensions', 'Depth (mm)'),\n",
    "    ('Bottom Reinforcement', 'Left (BL)'),\n",
    "    ('Bottom Reinforcement', 'Middle (B)'),\n",
    "    ('Bottom Reinforcement', 'Right (BR)'),\n",
    "    ('Top Reinforcement', 'Left (TL)'),\n",
    "    ('Top Reinforcement', 'Middle (T)'),\n",
    "    ('Top Reinforcement', 'Right (TR)'),\n",
    "    ('Shear links', 'Left (H)'),\n",
    "    ('Shear links', 'Middle (J)'),\n",
    "    ('Shear links', 'Right (K)'),\n",
    "    ('Side Face Reinforcement', '')\n",
    "])\n",
    "beam_schedule_df = pd.DataFrame(columns=columns)"
   ]
  },
  {
   "attachments": {},
   "cell_type": "markdown",
   "metadata": {},
   "source": [
    "## <center>For each index of the v4 respective df, populate the main beam_schedule_df with the necessary information</center>"
   ]
  },
  {
   "cell_type": "code",
   "execution_count": 54,
   "metadata": {},
   "outputs": [],
   "source": [
    "beam_schedule_df['Storey'] = v4_flexural_df['TABLE:  Concrete Beam Flexure Envelope - ACI 318-19']\n",
    "beam_schedule_df['Etabs ID'] = v4_flexural_df['ETABS beam ID']\n",
    "beam_schedule_df['Dimensions', 'Width (mm)'] = v4_flexural_df['Width (mm)']\n",
    "beam_schedule_df['Dimensions', 'Depth (mm)'] = v4_flexural_df['Depth (mm)']\n",
    "beam_schedule_df.reset_index(drop=True, inplace=True)"
   ]
  },
  {
   "attachments": {},
   "cell_type": "markdown",
   "metadata": {},
   "source": [
    "# <center>Create v5 df for flexure, including rebar areas and torsional longitudinal rebar<center>"
   ]
  },
  {
   "cell_type": "code",
   "execution_count": 55,
   "metadata": {},
   "outputs": [],
   "source": [
    "v5_flexural_df = v2_flexural_df.drop(['TABLE:  Concrete Beam Flexure Envelope - ACI 318-19', 'Unnamed: 1', 'Unnamed: 3'], axis=1)\n",
    "v5_flexural_df = v5_flexural_df.rename(columns={'Unnamed: 4': 'Location', 'Unnamed: 7': 'Bottom reinforcement', 'Unnamed: 10': 'Top Reinforcement'})\n",
    "v5_flexural_df.reset_index(drop=True, inplace=True)\n",
    "v2_shear_df.reset_index(drop=True, inplace=True)\n",
    "v5_flexural_df['Longitudinal tension rebar area (mm2)'] = v2_shear_df['Longitudinal tension rebar area (mm2)']"
   ]
  },
  {
   "attachments": {},
   "cell_type": "markdown",
   "metadata": {},
   "source": [
    "# <center> Create v6 df for flexure, including width and depth. This will be the df utilised for calculations.<center>"
   ]
  },
  {
   "cell_type": "code",
   "execution_count": 56,
   "metadata": {},
   "outputs": [],
   "source": [
    "#create new columns\n",
    "v5_flexural_df['Width (mm)'] = [1]*len(v5_flexural_df)\n",
    "v5_flexural_df['Depth (mm)'] = [1]*len(v5_flexural_df)\n",
    "v5_flexural_df['ETABS beam ID'] = [1]*len(v5_flexural_df)\n",
    "#add new columns to beginning of dataframe, create v6\n",
    "cols = ['ETABS beam ID', 'Width (mm)', 'Depth (mm)'] + [c for c in v5_flexural_df.columns if c not in ['ETABS beam ID', 'Width (mm)', 'Depth (mm)']]\n",
    "v6_flexural_df = v5_flexural_df[cols]"
   ]
  },
  {
   "cell_type": "code",
   "execution_count": 57,
   "metadata": {},
   "outputs": [
    {
     "data": {
      "text/html": [
       "<div>\n",
       "<style scoped>\n",
       "    .dataframe tbody tr th:only-of-type {\n",
       "        vertical-align: middle;\n",
       "    }\n",
       "\n",
       "    .dataframe tbody tr th {\n",
       "        vertical-align: top;\n",
       "    }\n",
       "\n",
       "    .dataframe thead th {\n",
       "        text-align: right;\n",
       "    }\n",
       "</style>\n",
       "<table border=\"1\" class=\"dataframe\">\n",
       "  <thead>\n",
       "    <tr style=\"text-align: right;\">\n",
       "      <th></th>\n",
       "      <th>ETABS beam ID</th>\n",
       "      <th>Width (mm)</th>\n",
       "      <th>Depth (mm)</th>\n",
       "      <th>Location</th>\n",
       "      <th>Bottom reinforcement</th>\n",
       "      <th>Top Reinforcement</th>\n",
       "      <th>Longitudinal tension rebar area (mm2)</th>\n",
       "      <th>Rebar Count</th>\n",
       "      <th>Bottom Rebar Schedule</th>\n",
       "      <th>Top Rebar Schedule</th>\n",
       "    </tr>\n",
       "  </thead>\n",
       "  <tbody>\n",
       "    <tr>\n",
       "      <th>0</th>\n",
       "      <td>B213</td>\n",
       "      <td>300</td>\n",
       "      <td>500</td>\n",
       "      <td>End-I</td>\n",
       "      <td>3</td>\n",
       "      <td>28</td>\n",
       "      <td>Side face reinforcement is not required</td>\n",
       "      <td>2</td>\n",
       "      <td>2T16</td>\n",
       "      <td>2T16</td>\n",
       "    </tr>\n",
       "    <tr>\n",
       "      <th>1</th>\n",
       "      <td>B213</td>\n",
       "      <td>300</td>\n",
       "      <td>500</td>\n",
       "      <td>Middle</td>\n",
       "      <td>229</td>\n",
       "      <td>90</td>\n",
       "      <td>Side face reinforcement is not required</td>\n",
       "      <td>2</td>\n",
       "      <td>2T16</td>\n",
       "      <td>2T16</td>\n",
       "    </tr>\n",
       "    <tr>\n",
       "      <th>2</th>\n",
       "      <td>B213</td>\n",
       "      <td>300</td>\n",
       "      <td>500</td>\n",
       "      <td>End-J</td>\n",
       "      <td>302</td>\n",
       "      <td>124</td>\n",
       "      <td>Side face reinforcement is not required</td>\n",
       "      <td>2</td>\n",
       "      <td>2T16</td>\n",
       "      <td>2T16</td>\n",
       "    </tr>\n",
       "    <tr>\n",
       "      <th>3</th>\n",
       "      <td>B215</td>\n",
       "      <td>300</td>\n",
       "      <td>500</td>\n",
       "      <td>End-I</td>\n",
       "      <td>2622</td>\n",
       "      <td>2977</td>\n",
       "      <td>Side face reinforcement is not required</td>\n",
       "      <td>2</td>\n",
       "      <td>2 rows of 2T32</td>\n",
       "      <td>2 rows of 2T32</td>\n",
       "    </tr>\n",
       "    <tr>\n",
       "      <th>4</th>\n",
       "      <td>B215</td>\n",
       "      <td>300</td>\n",
       "      <td>500</td>\n",
       "      <td>Middle</td>\n",
       "      <td>2295</td>\n",
       "      <td>2590</td>\n",
       "      <td>Side face reinforcement is not required</td>\n",
       "      <td>2</td>\n",
       "      <td>2 rows of 2T32</td>\n",
       "      <td>2 rows of 2T32</td>\n",
       "    </tr>\n",
       "  </tbody>\n",
       "</table>\n",
       "</div>"
      ],
      "text/plain": [
       "  ETABS beam ID  Width (mm)  Depth (mm) Location Bottom reinforcement   \n",
       "0          B213         300         500    End-I                    3  \\\n",
       "1          B213         300         500   Middle                  229   \n",
       "2          B213         300         500    End-J                  302   \n",
       "3          B215         300         500    End-I                 2622   \n",
       "4          B215         300         500   Middle                 2295   \n",
       "\n",
       "  Top Reinforcement    Longitudinal tension rebar area (mm2)  Rebar Count   \n",
       "0                28  Side face reinforcement is not required            2  \\\n",
       "1                90  Side face reinforcement is not required            2   \n",
       "2               124  Side face reinforcement is not required            2   \n",
       "3              2977  Side face reinforcement is not required            2   \n",
       "4              2590  Side face reinforcement is not required            2   \n",
       "\n",
       "  Bottom Rebar Schedule Top Rebar Schedule  \n",
       "0                  2T16               2T16  \n",
       "1                  2T16               2T16  \n",
       "2                  2T16               2T16  \n",
       "3        2 rows of 2T32     2 rows of 2T32  \n",
       "4        2 rows of 2T32     2 rows of 2T32  "
      ]
     },
     "execution_count": 57,
     "metadata": {},
     "output_type": "execute_result"
    }
   ],
   "source": [
    "v6_flexural_df.loc[:, 'Width (mm)'] = v2_flexural_df['Unnamed: 3'].apply(clean_width_dimensions)\n",
    "v6_flexural_df.loc[:, 'Depth (mm)'] = v2_flexural_df['Unnamed: 3'].apply(clean_depth_dimensions)\n",
    "v6_flexural_df['ETABS beam ID'] = v2_flexural_df['Unnamed: 1']\n",
    "rebar_func.side_face_assessment(v6_flexural_df, 'Depth (mm)', 'Longitudinal tension rebar area (mm2)', 'Bottom reinforcement', 'Top Reinforcement')\n",
    "v6_flexural_df['Rebar Count'] = v6_flexural_df['Width (mm)'].apply(rebar_func.rebar_count)\n",
    "v6_flexural_df['Bottom Rebar Schedule'] = v6_flexural_df.apply(rebar_func.rebar_calc, axis=1, args=('Rebar Count', 'Bottom reinforcement'))\n",
    "v6_flexural_df['Top Rebar Schedule'] = v6_flexural_df.apply(rebar_func.rebar_calc, axis=1, args=('Rebar Count', 'Top Reinforcement'))\n",
    "\n",
    "v6_flexural_df.head()"
   ]
  }
 ],
 "metadata": {
  "kernelspec": {
   "display_name": "Python 3",
   "language": "python",
   "name": "python3"
  },
  "language_info": {
   "codemirror_mode": {
    "name": "ipython",
    "version": 3
   },
   "file_extension": ".py",
   "mimetype": "text/x-python",
   "name": "python",
   "nbconvert_exporter": "python",
   "pygments_lexer": "ipython3",
   "version": "3.10.11"
  },
  "orig_nbformat": 4
 },
 "nbformat": 4,
 "nbformat_minor": 2
}
