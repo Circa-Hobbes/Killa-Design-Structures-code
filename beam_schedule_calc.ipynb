{
 "cells": [
  {
   "attachments": {},
   "cell_type": "markdown",
   "metadata": {},
   "source": [
    "# <center>**Import necessary libraries**</center>\n"
   ]
  },
  {
   "cell_type": "code",
   "execution_count": 977,
   "metadata": {},
   "outputs": [],
   "source": [
    "import pathlib\n",
    "import pandas as pd\n",
    "import math\n",
    "import design_functions.rebar_information as rebar_func"
   ]
  },
  {
   "attachments": {},
   "cell_type": "markdown",
   "metadata": {},
   "source": [
    "## <center>Import and read the desired beam flexural and shear reinforcement excel file from ETABS</center>"
   ]
  },
  {
   "cell_type": "code",
   "execution_count": 978,
   "metadata": {},
   "outputs": [],
   "source": [
    "excel_file = pathlib.Path('excel_files\\example_analysis.xlsx')\n",
    "initial_df = pd.read_excel(excel_file, sheet_name=None)\n",
    "pd.set_option('display.max_rows', None)"
   ]
  },
  {
   "attachments": {},
   "cell_type": "markdown",
   "metadata": {},
   "source": [
    "## <center>Because the excel sheet has two sheets, flexural and shear, they need to be read individually</center>"
   ]
  },
  {
   "attachments": {},
   "cell_type": "markdown",
   "metadata": {},
   "source": [
    "## <center>Delete unnecessary rows and columns for simplicity</center>"
   ]
  },
  {
   "attachments": {},
   "cell_type": "markdown",
   "metadata": {},
   "source": [
    "V1 of respective df's = first two rows are deleted<br>\n",
    "V2 of respective df's = unique name, story, negative moment, negative combo, positive moment, and positive combo columns are removed.<br>\n",
    "V3 of respective df's = each unique beam is consolidated to extract information such as section size, unqiue name.<br>\n",
    "V4 of respective df's = ETABs section column is removed."
   ]
  },
  {
   "cell_type": "code",
   "execution_count": 979,
   "metadata": {},
   "outputs": [],
   "source": [
    "v1_flexural_df = initial_df['Sheet1'].drop([0,1])\n",
    "v1_shear_df = initial_df['Sheet2'].drop([0,1])"
   ]
  },
  {
   "cell_type": "code",
   "execution_count": 980,
   "metadata": {},
   "outputs": [],
   "source": [
    "v2_flexural_df = v1_flexural_df.drop(['Unnamed: 2', 'Unnamed: 5', 'Unnamed: 6', 'Unnamed: 8', 'Unnamed: 9'], axis=1)\n",
    "#insert v2_shear_df once understood which columns to remove."
   ]
  },
  {
   "cell_type": "code",
   "execution_count": 981,
   "metadata": {},
   "outputs": [],
   "source": [
    "v3_flexural_df = v2_flexural_df.iloc[::3]\n",
    "v3_shear_df = v1_shear_df.iloc[::3] #remember to change variable to v2 once it has been created"
   ]
  },
  {
   "attachments": {},
   "cell_type": "markdown",
   "metadata": {},
   "source": [
    "## <center>Create width and depth columns to utilise in calculations</center>"
   ]
  },
  {
   "cell_type": "code",
   "execution_count": 982,
   "metadata": {},
   "outputs": [],
   "source": [
    "v3_flexural_df.insert(3, 'Width (mm)', None)\n",
    "v3_flexural_df.insert(4, 'Depth (mm)', None)"
   ]
  },
  {
   "cell_type": "code",
   "execution_count": 983,
   "metadata": {},
   "outputs": [],
   "source": [
    "#this function cleans the cell of unnamed: 3 column to provide the width of each respective beam.\n",
    "def clean_width_dimensions(width):\n",
    "    width_list = list(width) # turn string into list of individual indexes\n",
    "    width_list = [el.lower() for el in width_list] #use list comprehension to turn list into lower case values\n",
    "    excluded_values = ['p', 't', 'b', '-', '_', 'c', '/'] #create list of excluded indices\n",
    "    v1_width_list = [ex for ex in width_list if ex not in excluded_values] #use list comprehension to return list excluding indices\n",
    "    index_list = v1_width_list.index('x') #index the list to x to retrieve required width\n",
    "    v2_width_list = v1_width_list[:index_list] #slice the width list to the index x\n",
    "    true_width = ''.join(v2_width_list) #join the list into a string\n",
    "    return int(true_width) #turn string into int so it can be used in other functions"
   ]
  },
  {
   "cell_type": "code",
   "execution_count": 984,
   "metadata": {},
   "outputs": [],
   "source": [
    "v3_flexural_df.loc[:, 'Width (mm)'] = v3_flexural_df['Unnamed: 3'].apply(clean_width_dimensions)"
   ]
  },
  {
   "cell_type": "code",
   "execution_count": 985,
   "metadata": {},
   "outputs": [],
   "source": [
    "#this function cleans the cell of unnamed: 3 column to provide the depth of each respective beam.\n",
    "#this function follows the same steps as clean_width_dimensions function\n",
    "def clean_depth_dimensions(depth):\n",
    "    depth_list = list(depth)\n",
    "    depth_list = [el.lower() for el in depth_list]\n",
    "    excluded_values = ['p','t', 'b', '-', '_', 'c', '/']\n",
    "    v1_depth_list = [ex for ex in depth_list if ex not in excluded_values]\n",
    "    index_list = v1_depth_list.index('x')\n",
    "    v2_depth_list = v1_depth_list[1+index_list:-4]\n",
    "    true_depth = ''.join(v2_depth_list)\n",
    "    return int(true_depth)"
   ]
  },
  {
   "cell_type": "code",
   "execution_count": 986,
   "metadata": {},
   "outputs": [],
   "source": [
    "v3_flexural_df.loc[:, 'Depth (mm)'] = v3_flexural_df['Unnamed: 3'].apply(clean_depth_dimensions)"
   ]
  },
  {
   "attachments": {},
   "cell_type": "markdown",
   "metadata": {},
   "source": [
    "## <center>With the width and depth defined, remove the ETABS section, location, and rebar area columns</center>"
   ]
  },
  {
   "cell_type": "code",
   "execution_count": 987,
   "metadata": {},
   "outputs": [],
   "source": [
    "v4_flexural_df = v3_flexural_df.drop(['Unnamed: 3', 'Unnamed: 4', 'Unnamed: 7', 'Unnamed: 10'], axis=1)\n",
    "#insert v4_shear_df once understood which columns to remove."
   ]
  },
  {
   "cell_type": "code",
   "execution_count": 988,
   "metadata": {},
   "outputs": [],
   "source": [
    "v4_flexural_df = v4_flexural_df.rename(columns={'Unnamed: 1': 'ETABS beam ID'})"
   ]
  },
  {
   "attachments": {},
   "cell_type": "markdown",
   "metadata": {},
   "source": [
    "## <center>Create Dataframe to store beam reinforcement schedule</center>"
   ]
  },
  {
   "cell_type": "code",
   "execution_count": 989,
   "metadata": {},
   "outputs": [],
   "source": [
    "# Create dictionary which reflects column headings\n",
    "columns = pd.MultiIndex.from_tuples([\n",
    "    ('Storey', ''),\n",
    "    ('Etabs ID', ''),\n",
    "    ('Dimensions', 'Width (mm)'),\n",
    "    ('Dimensions', 'Depth (mm)'),\n",
    "    ('Bottom Reinforcement', 'Left (BL)'),\n",
    "    ('Bottom Reinforcement', 'Middle (B)'),\n",
    "    ('Bottom Reinforcement', 'Right (BR)'),\n",
    "    ('Top Reinforcement', 'Left (TL)'),\n",
    "    ('Top Reinforcement', 'Middle (T)'),\n",
    "    ('Top Reinforcement', 'Right (TR)'),\n",
    "    ('Shear links', 'Left (H)'),\n",
    "    ('Shear links', 'Middle (J)'),\n",
    "    ('Shear links', 'Right (K)'),\n",
    "    ('Side Face Reinforcement', '')\n",
    "])\n",
    "beam_schedule_df = pd.DataFrame(columns=columns)"
   ]
  },
  {
   "attachments": {},
   "cell_type": "markdown",
   "metadata": {},
   "source": [
    "## <center>For each index of the v4 respective df, populate the main beam_schedule_df with the necessary information</center>"
   ]
  },
  {
   "cell_type": "code",
   "execution_count": 990,
   "metadata": {},
   "outputs": [
    {
     "data": {
      "text/html": [
       "<div>\n",
       "<style scoped>\n",
       "    .dataframe tbody tr th:only-of-type {\n",
       "        vertical-align: middle;\n",
       "    }\n",
       "\n",
       "    .dataframe tbody tr th {\n",
       "        vertical-align: top;\n",
       "    }\n",
       "\n",
       "    .dataframe thead tr th {\n",
       "        text-align: left;\n",
       "    }\n",
       "</style>\n",
       "<table border=\"1\" class=\"dataframe\">\n",
       "  <thead>\n",
       "    <tr>\n",
       "      <th></th>\n",
       "      <th>Storey</th>\n",
       "      <th>Etabs ID</th>\n",
       "      <th colspan=\"2\" halign=\"left\">Dimensions</th>\n",
       "      <th colspan=\"3\" halign=\"left\">Bottom Reinforcement</th>\n",
       "      <th colspan=\"3\" halign=\"left\">Top Reinforcement</th>\n",
       "      <th colspan=\"3\" halign=\"left\">Shear links</th>\n",
       "      <th>Side Face Reinforcement</th>\n",
       "    </tr>\n",
       "    <tr>\n",
       "      <th></th>\n",
       "      <th></th>\n",
       "      <th></th>\n",
       "      <th>Width (mm)</th>\n",
       "      <th>Depth (mm)</th>\n",
       "      <th>Left (BL)</th>\n",
       "      <th>Middle (B)</th>\n",
       "      <th>Right (BR)</th>\n",
       "      <th>Left (TL)</th>\n",
       "      <th>Middle (T)</th>\n",
       "      <th>Right (TR)</th>\n",
       "      <th>Left (H)</th>\n",
       "      <th>Middle (J)</th>\n",
       "      <th>Right (K)</th>\n",
       "      <th></th>\n",
       "    </tr>\n",
       "  </thead>\n",
       "  <tbody>\n",
       "    <tr>\n",
       "      <th>2</th>\n",
       "      <td>P4</td>\n",
       "      <td>B213</td>\n",
       "      <td>300</td>\n",
       "      <td>500</td>\n",
       "      <td>NaN</td>\n",
       "      <td>NaN</td>\n",
       "      <td>NaN</td>\n",
       "      <td>NaN</td>\n",
       "      <td>NaN</td>\n",
       "      <td>NaN</td>\n",
       "      <td>NaN</td>\n",
       "      <td>NaN</td>\n",
       "      <td>NaN</td>\n",
       "      <td>NaN</td>\n",
       "    </tr>\n",
       "    <tr>\n",
       "      <th>5</th>\n",
       "      <td>P4</td>\n",
       "      <td>B215</td>\n",
       "      <td>300</td>\n",
       "      <td>500</td>\n",
       "      <td>NaN</td>\n",
       "      <td>NaN</td>\n",
       "      <td>NaN</td>\n",
       "      <td>NaN</td>\n",
       "      <td>NaN</td>\n",
       "      <td>NaN</td>\n",
       "      <td>NaN</td>\n",
       "      <td>NaN</td>\n",
       "      <td>NaN</td>\n",
       "      <td>NaN</td>\n",
       "    </tr>\n",
       "    <tr>\n",
       "      <th>8</th>\n",
       "      <td>P4</td>\n",
       "      <td>B232</td>\n",
       "      <td>600</td>\n",
       "      <td>600</td>\n",
       "      <td>NaN</td>\n",
       "      <td>NaN</td>\n",
       "      <td>NaN</td>\n",
       "      <td>NaN</td>\n",
       "      <td>NaN</td>\n",
       "      <td>NaN</td>\n",
       "      <td>NaN</td>\n",
       "      <td>NaN</td>\n",
       "      <td>NaN</td>\n",
       "      <td>NaN</td>\n",
       "    </tr>\n",
       "    <tr>\n",
       "      <th>11</th>\n",
       "      <td>P4</td>\n",
       "      <td>B235</td>\n",
       "      <td>300</td>\n",
       "      <td>500</td>\n",
       "      <td>NaN</td>\n",
       "      <td>NaN</td>\n",
       "      <td>NaN</td>\n",
       "      <td>NaN</td>\n",
       "      <td>NaN</td>\n",
       "      <td>NaN</td>\n",
       "      <td>NaN</td>\n",
       "      <td>NaN</td>\n",
       "      <td>NaN</td>\n",
       "      <td>NaN</td>\n",
       "    </tr>\n",
       "    <tr>\n",
       "      <th>14</th>\n",
       "      <td>P4</td>\n",
       "      <td>B237</td>\n",
       "      <td>300</td>\n",
       "      <td>500</td>\n",
       "      <td>NaN</td>\n",
       "      <td>NaN</td>\n",
       "      <td>NaN</td>\n",
       "      <td>NaN</td>\n",
       "      <td>NaN</td>\n",
       "      <td>NaN</td>\n",
       "      <td>NaN</td>\n",
       "      <td>NaN</td>\n",
       "      <td>NaN</td>\n",
       "      <td>NaN</td>\n",
       "    </tr>\n",
       "  </tbody>\n",
       "</table>\n",
       "</div>"
      ],
      "text/plain": [
       "   Storey Etabs ID Dimensions            Bottom Reinforcement             \\\n",
       "                   Width (mm) Depth (mm)            Left (BL) Middle (B)   \n",
       "2      P4     B213        300        500                  NaN        NaN   \n",
       "5      P4     B215        300        500                  NaN        NaN   \n",
       "8      P4     B232        600        600                  NaN        NaN   \n",
       "11     P4     B235        300        500                  NaN        NaN   \n",
       "14     P4     B237        300        500                  NaN        NaN   \n",
       "\n",
       "              Top Reinforcement                       Shear links             \\\n",
       "   Right (BR)         Left (TL) Middle (T) Right (TR)    Left (H) Middle (J)   \n",
       "2         NaN               NaN        NaN        NaN         NaN        NaN   \n",
       "5         NaN               NaN        NaN        NaN         NaN        NaN   \n",
       "8         NaN               NaN        NaN        NaN         NaN        NaN   \n",
       "11        NaN               NaN        NaN        NaN         NaN        NaN   \n",
       "14        NaN               NaN        NaN        NaN         NaN        NaN   \n",
       "\n",
       "             Side Face Reinforcement  \n",
       "   Right (K)                          \n",
       "2        NaN                     NaN  \n",
       "5        NaN                     NaN  \n",
       "8        NaN                     NaN  \n",
       "11       NaN                     NaN  \n",
       "14       NaN                     NaN  "
      ]
     },
     "execution_count": 990,
     "metadata": {},
     "output_type": "execute_result"
    }
   ],
   "source": [
    "beam_schedule_df['Storey'] = v4_flexural_df['TABLE:  Concrete Beam Flexure Envelope - ACI 318-19']\n",
    "beam_schedule_df['Etabs ID'] = v4_flexural_df['ETABS beam ID']\n",
    "beam_schedule_df['Dimensions', 'Width (mm)'] = v4_flexural_df['Width (mm)']\n",
    "beam_schedule_df['Dimensions', 'Depth (mm)'] = v4_flexural_df['Depth (mm)']\n",
    "beam_schedule_df.head()"
   ]
  },
  {
   "attachments": {},
   "cell_type": "markdown",
   "metadata": {},
   "source": [
    "## <center>Create a dictionary of each unique beam from v3 df, and associate the relevant top / bottom rebar requirement with each </center>"
   ]
  },
  {
   "cell_type": "code",
   "execution_count": 991,
   "metadata": {},
   "outputs": [],
   "source": [
    "bottom_beam_rebar = {}\n",
    "values_per_key = 3\n",
    "values_counter = 0\n",
    "for i, row in v3_flexural_df.iterrows():\n",
    "    key = row['Unnamed: 1']\n",
    "    values = v2_flexural_df.iloc[values_counter:values_counter+values_per_key]['Unnamed: 7'].tolist()\n",
    "    bottom_beam_rebar[key] = values\n",
    "    values_counter += values_per_key"
   ]
  },
  {
   "cell_type": "code",
   "execution_count": 992,
   "metadata": {},
   "outputs": [],
   "source": [
    "top_beam_rebar = {}\n",
    "values_per_key = 3\n",
    "values_counter = 0\n",
    "for i, row in v3_flexural_df.iterrows():\n",
    "    key = row['Unnamed: 1']\n",
    "    values = v2_flexural_df.iloc[values_counter:values_counter+values_per_key]['Unnamed: 10'].tolist()\n",
    "    top_beam_rebar[key] = values\n",
    "    values_counter += values_per_key"
   ]
  }
 ],
 "metadata": {
  "kernelspec": {
   "display_name": "Python 3",
   "language": "python",
   "name": "python3"
  },
  "language_info": {
   "codemirror_mode": {
    "name": "ipython",
    "version": 3
   },
   "file_extension": ".py",
   "mimetype": "text/x-python",
   "name": "python",
   "nbconvert_exporter": "python",
   "pygments_lexer": "ipython3",
   "version": "3.10.11"
  },
  "orig_nbformat": 4
 },
 "nbformat": 4,
 "nbformat_minor": 2
}
