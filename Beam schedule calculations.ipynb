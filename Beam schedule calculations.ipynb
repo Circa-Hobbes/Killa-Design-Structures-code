{
 "cells": [
  {
   "attachments": {},
   "cell_type": "markdown",
   "metadata": {},
   "source": [
    "# <center>**Import necessary libraries**</center>"
   ]
  },
  {
   "cell_type": "code",
   "execution_count": 124,
   "metadata": {},
   "outputs": [],
   "source": [
    "import pandas as pd\n",
    "import forallpeople\n",
    "import math\n",
    "import handcalcs.render"
   ]
  },
  {
   "attachments": {},
   "cell_type": "markdown",
   "metadata": {},
   "source": [
    "## <center>Create table to store beam reinforcement schedule </center>"
   ]
  },
  {
   "cell_type": "code",
   "execution_count": 125,
   "metadata": {},
   "outputs": [
    {
     "ename": "SyntaxError",
     "evalue": "invalid syntax (2003909871.py, line 4)",
     "output_type": "error",
     "traceback": [
      "\u001b[1;36m  Cell \u001b[1;32mIn[125], line 4\u001b[1;36m\u001b[0m\n\u001b[1;33m    'Dimensions': ''{\u001b[0m\n\u001b[1;37m                ^\u001b[0m\n\u001b[1;31mSyntaxError\u001b[0m\u001b[1;31m:\u001b[0m invalid syntax\n"
     ]
    }
   ],
   "source": [
    "# Create dictionary which reflects column headings\n",
    "beam_schedule_dict = {\n",
    "'Etabs ID': ''\n",
    "'Dimensions': {\n",
    "        'Width (mm)' : '',\n",
    "        'Depth (mm)' : ''\n",
    "    },\n",
    "    'Bottom Reinforcement': {\n",
    "        'Left (BL)': ,\n",
    "        'Middle (B)': ,\n",
    "        'Right (BR)': ,\n",
    "    },\n",
    "    'Top Reinforcement': {\n",
    "        'Left (TL)': ,\n",
    "        'Middle (T)': ,\n",
    "        'Right (TR)': ,\n",
    "    },\n",
    "    'Shear links': {\n",
    "        'Left (H)': ,\n",
    "        'Middle (J)': ,\n",
    "        'Right (K)': ,\n",
    "    },\n",
    "    'Side Face Reinforcement': ,\n",
    "}\n",
    "# create pandas DataFrame\n",
    "beam_schedule_df = pd.DataFrame(beam_schedule_dict)\n",
    "print(beam_schedule_df)"
   ]
  }
 ],
 "metadata": {
  "kernelspec": {
   "display_name": "Python 3",
   "language": "python",
   "name": "python3"
  },
  "language_info": {
   "codemirror_mode": {
    "name": "ipython",
    "version": 3
   },
   "file_extension": ".py",
   "mimetype": "text/x-python",
   "name": "python",
   "nbconvert_exporter": "python",
   "pygments_lexer": "ipython3",
   "version": "3.10.11"
  },
  "orig_nbformat": 4
 },
 "nbformat": 4,
 "nbformat_minor": 2
}
