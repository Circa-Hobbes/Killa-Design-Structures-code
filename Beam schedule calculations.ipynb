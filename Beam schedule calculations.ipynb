{
 "cells": [
  {
   "attachments": {},
   "cell_type": "markdown",
   "metadata": {},
   "source": [
    "# <center>**Import necessary libraries**</center>"
   ]
  },
  {
   "cell_type": "code",
   "execution_count": 209,
   "metadata": {},
   "outputs": [],
   "source": [
    "import pandas as pd\n",
    "import forallpeople\n",
    "import math\n",
    "import handcalcs.render"
   ]
  },
  {
   "attachments": {},
   "cell_type": "markdown",
   "metadata": {},
   "source": [
    "## <center>Create table to store beam reinforcement schedule </center>"
   ]
  },
  {
   "cell_type": "code",
   "execution_count": 210,
   "metadata": {},
   "outputs": [
    {
     "data": {
      "text/html": [
       "<div>\n",
       "<style scoped>\n",
       "    .dataframe tbody tr th:only-of-type {\n",
       "        vertical-align: middle;\n",
       "    }\n",
       "\n",
       "    .dataframe tbody tr th {\n",
       "        vertical-align: top;\n",
       "    }\n",
       "\n",
       "    .dataframe thead tr th {\n",
       "        text-align: left;\n",
       "    }\n",
       "</style>\n",
       "<table border=\"1\" class=\"dataframe\">\n",
       "  <thead>\n",
       "    <tr>\n",
       "      <th></th>\n",
       "      <th colspan=\"2\" halign=\"left\">Dimensions</th>\n",
       "      <th colspan=\"3\" halign=\"left\">Bottom Reinforcement</th>\n",
       "      <th colspan=\"3\" halign=\"left\">Top Reinforcement</th>\n",
       "      <th colspan=\"3\" halign=\"left\">Shear links</th>\n",
       "      <th>Side Face Reinforcement</th>\n",
       "    </tr>\n",
       "    <tr>\n",
       "      <th></th>\n",
       "      <th>Width (mm)</th>\n",
       "      <th>Depth (mm)</th>\n",
       "      <th>Left (BL)</th>\n",
       "      <th>Middle (B)</th>\n",
       "      <th>Right (BR)</th>\n",
       "      <th>Left (TL)</th>\n",
       "      <th>Middle (T)</th>\n",
       "      <th>Right (TR)</th>\n",
       "      <th>Left (H)</th>\n",
       "      <th>Middle (J)</th>\n",
       "      <th>Right (K)</th>\n",
       "      <th></th>\n",
       "    </tr>\n",
       "  </thead>\n",
       "  <tbody>\n",
       "  </tbody>\n",
       "</table>\n",
       "</div>"
      ],
      "text/plain": [
       "Empty DataFrame\n",
       "Columns: [(Dimensions, Width (mm)), (Dimensions, Depth (mm)), (Bottom Reinforcement, Left (BL)), (Bottom Reinforcement, Middle (B)), (Bottom Reinforcement, Right (BR)), (Top Reinforcement, Left (TL)), (Top Reinforcement, Middle (T)), (Top Reinforcement, Right (TR)), (Shear links, Left (H)), (Shear links, Middle (J)), (Shear links, Right (K)), (Side Face Reinforcement, )]\n",
       "Index: []"
      ]
     },
     "execution_count": 210,
     "metadata": {},
     "output_type": "execute_result"
    }
   ],
   "source": [
    "# Create dictionary which reflects column headings\n",
    "columns = pd.MultiIndex.from_tuples([\n",
    "    ('Dimensions', 'Width (mm)'),\n",
    "    ('Dimensions', 'Depth (mm)'),\n",
    "    ('Bottom Reinforcement', 'Left (BL)'),\n",
    "    ('Bottom Reinforcement', 'Middle (B)'),\n",
    "    ('Bottom Reinforcement', 'Right (BR)'),\n",
    "    ('Top Reinforcement', 'Left (TL)'),\n",
    "    ('Top Reinforcement', 'Middle (T)'),\n",
    "    ('Top Reinforcement', 'Right (TR)'),\n",
    "    ('Shear links', 'Left (H)'),\n",
    "    ('Shear links', 'Middle (J)'),\n",
    "    ('Shear links', 'Right (K)'),\n",
    "    ('Side Face Reinforcement', '')\n",
    "])\n",
    "beam_schedule_df = pd.DataFrame(columns=columns)\n",
    "beam_schedule_df"
   ]
  },
  {
   "cell_type": "code",
   "execution_count": 211,
   "metadata": {},
   "outputs": [
    {
     "data": {
      "text/html": [
       "<div>\n",
       "<style scoped>\n",
       "    .dataframe tbody tr th:only-of-type {\n",
       "        vertical-align: middle;\n",
       "    }\n",
       "\n",
       "    .dataframe tbody tr th {\n",
       "        vertical-align: top;\n",
       "    }\n",
       "\n",
       "    .dataframe thead tr th {\n",
       "        text-align: left;\n",
       "    }\n",
       "</style>\n",
       "<table border=\"1\" class=\"dataframe\">\n",
       "  <thead>\n",
       "    <tr>\n",
       "      <th></th>\n",
       "      <th colspan=\"2\" halign=\"left\">Dimensions</th>\n",
       "      <th colspan=\"3\" halign=\"left\">Bottom Reinforcement</th>\n",
       "      <th colspan=\"3\" halign=\"left\">Top Reinforcement</th>\n",
       "      <th colspan=\"3\" halign=\"left\">Shear links</th>\n",
       "      <th>Side Face Reinforcement</th>\n",
       "    </tr>\n",
       "    <tr>\n",
       "      <th></th>\n",
       "      <th>Width (mm)</th>\n",
       "      <th>Depth (mm)</th>\n",
       "      <th>Left (BL)</th>\n",
       "      <th>Middle (B)</th>\n",
       "      <th>Right (BR)</th>\n",
       "      <th>Left (TL)</th>\n",
       "      <th>Middle (T)</th>\n",
       "      <th>Right (TR)</th>\n",
       "      <th>Left (H)</th>\n",
       "      <th>Middle (J)</th>\n",
       "      <th>Right (K)</th>\n",
       "      <th></th>\n",
       "    </tr>\n",
       "  </thead>\n",
       "  <tbody>\n",
       "    <tr>\n",
       "      <th>0</th>\n",
       "      <td>200</td>\n",
       "      <td>300</td>\n",
       "      <td>4</td>\n",
       "      <td>3</td>\n",
       "      <td>5</td>\n",
       "      <td>1</td>\n",
       "      <td>1</td>\n",
       "      <td>1</td>\n",
       "      <td>1</td>\n",
       "      <td>1</td>\n",
       "      <td>1</td>\n",
       "      <td>1</td>\n",
       "    </tr>\n",
       "  </tbody>\n",
       "</table>\n",
       "</div>"
      ],
      "text/plain": [
       "  Dimensions            Bottom Reinforcement                         \n",
       "  Width (mm) Depth (mm)            Left (BL) Middle (B) Right (BR)   \n",
       "0        200        300                    4          3          5  \\\n",
       "\n",
       "  Top Reinforcement                       Shear links                        \n",
       "          Left (TL) Middle (T) Right (TR)    Left (H) Middle (J) Right (K)   \n",
       "0                 1          1          1           1          1         1  \\\n",
       "\n",
       "  Side Face Reinforcement  \n",
       "                           \n",
       "0                       1  "
      ]
     },
     "execution_count": 211,
     "metadata": {},
     "output_type": "execute_result"
    }
   ],
   "source": [
    "new_row = {\n",
    "    ('Dimensions', 'Width (mm)'): 200,\n",
    "    ('Dimensions', 'Depth (mm)'): 300,\n",
    "    ('Bottom Reinforcement', 'Left (BL)'): 4,\n",
    "    ('Bottom Reinforcement', 'Middle (B)'): 3,\n",
    "    ('Bottom Reinforcement', 'Right (BR)'): 5,\n",
    "    ('Top Reinforcement', 'Left (TL)'): 1,\n",
    "    ('Top Reinforcement', 'Middle (T)'):1,\n",
    "    ('Top Reinforcement', 'Right (TR)'):1,\n",
    "    ('Shear links', 'Left (H)'):1,\n",
    "    ('Shear links', 'Middle (J)'):1,\n",
    "    ('Shear links', 'Right (K)'):1,\n",
    "    ('Side Face Reinforcement', ''):1\n",
    "}\n",
    "beam_schedule_df.loc[0] = new_row\n",
    "beam_schedule_df"
   ]
  }
 ],
 "metadata": {
  "kernelspec": {
   "display_name": "Python 3",
   "language": "python",
   "name": "python3"
  },
  "language_info": {
   "codemirror_mode": {
    "name": "ipython",
    "version": 3
   },
   "file_extension": ".py",
   "mimetype": "text/x-python",
   "name": "python",
   "nbconvert_exporter": "python",
   "pygments_lexer": "ipython3",
   "version": "3.10.11"
  },
  "orig_nbformat": 4
 },
 "nbformat": 4,
 "nbformat_minor": 2
}
